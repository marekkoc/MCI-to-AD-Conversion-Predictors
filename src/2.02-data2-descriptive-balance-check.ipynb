{
 "cells": [
  {
   "cell_type": "markdown",
   "metadata": {},
   "source": [
    "# DATA2 -  DESCRIPTIVE: DATA BALANCE CHECK \n",
    "\n",
    "## SPLIT BETWEEN TRAIN AND TEST SETS\n",
    " \n",
    "\n",
    "\n",
    "**Resources**\n",
    "1. DATA\n",
    "    1. [data/data2](https://github.com/MMIV-ML/MCI-subgroups/tree/master/data/data2) - csv files downloaded from ADNI,\n",
    "    1. [data/data2_FS](https://github.com/MMIV-ML/MCI-subgroups/tree/master/data/data2_FS) - FS result csv files,\n",
    "    1. [data_zip/20201109_data2_file_versions](https://github.com/MMIV-ML/MCI-subgroups/blob/master/data/data_zip/20201109_data2_file_versions.pdf) - download ADNI web page screen shoot taken for downaloaded csv files (some of file neames are printed with dates),\n",
    "1. RESULTS\n",
    "    1. [results/20201110](https://github.com/MMIV-ML/MCI-subgroups/tree/master/results/20201110) - result folder,\n",
    "    1. [results/20201120/README.md](https://github.com/MMIV-ML/MCI-subgroups/blob/master/results/20201110/README.md) - short description,\n",
    "1. GOOGLE DRIVE\n",
    "    1. [slides](https://docs.google.com/presentation/d/1aEK7M5BPe0RxWYskzQCEDbT4Mf-4mRRqQ5uJ_YuqRzg/edit#slide=id.p) - link to google slides (**OUT OF DATE, MUST BE UPDATED !!!**),\n",
    "    1. [GoogleDrive](https://drive.google.com/drive/folders/1r8l2R88-0T8Xahk30iAgjBCWXvV1R2J-) - the main google drive slide folder,\n",
    "1. GIT HUB\n",
    "    1. [GitHub](https://github.com/MMIV-ML/MCI-subgroups) - the main repo on-line folder,\n",
    "\n",
    "\n",
    "The latest changes (ver. 0.04):\n",
    "\n",
    "    - updated to new column names\n",
    "    \n",
    "   *Created: 2021.03.09 / Updated: 2021.04.04*\n",
    "\n",
    "---"
   ]
  },
  {
   "cell_type": "markdown",
   "metadata": {},
   "source": [
    "#### IMPORTS"
   ]
  },
  {
   "cell_type": "code",
   "execution_count": 1,
   "metadata": {},
   "outputs": [],
   "source": [
    "%reload_ext autoreload\n",
    "%autoreload 2\n",
    "%matplotlib inline"
   ]
  },
  {
   "cell_type": "code",
   "execution_count": 2,
   "metadata": {},
   "outputs": [],
   "source": [
    "import pandas as pd\n",
    "import numpy as np\n",
    "import seaborn as sns\n",
    "from pathlib import Path\n",
    "import matplotlib.pyplot as plt\n",
    "from sklearn.model_selection import StratifiedShuffleSplit"
   ]
  },
  {
   "cell_type": "markdown",
   "metadata": {},
   "source": [
    "#### MCI MODULES"
   ]
  },
  {
   "cell_type": "code",
   "execution_count": 3,
   "metadata": {},
   "outputs": [],
   "source": [
    "# our imports \n",
    "import mci_get as mget\n",
    "import mci_info as minfo\n",
    "import mci_preprocessing as mpre\n",
    "import mci_linking as mlink\n",
    "import mci_balancing as mbal\n",
    "import mci_utils as mutils"
   ]
  },
  {
   "cell_type": "markdown",
   "metadata": {},
   "source": [
    "#### GLOBAL VARIABLES"
   ]
  },
  {
   "cell_type": "code",
   "execution_count": 4,
   "metadata": {},
   "outputs": [],
   "source": [
    "# Notebook folder\n",
    "NB_DIR = %pwd\n",
    "NB_DIR = Path(NB_DIR)\n",
    "# Root MCI foler\n",
    "ROOT_DIR = NB_DIR.parent\n",
    "# Data folder\n",
    "DATA_DIR = ROOT_DIR/'data/data2'\n",
    "# Results folder\n",
    "RESULTS_DIR = ROOT_DIR/'results'\n",
    "#RESULTS_DIR.mkdir(parents=True, exist_ok=True)"
   ]
  },
  {
   "cell_type": "markdown",
   "metadata": {},
   "source": [
    "#### SELECTED PROPERTIES"
   ]
  },
  {
   "cell_type": "code",
   "execution_count": 5,
   "metadata": {},
   "outputs": [],
   "source": [
    "# DEFAULT VALUE: 6\n",
    "pd.options.display.precision = 2"
   ]
  },
  {
   "cell_type": "markdown",
   "metadata": {},
   "source": [
    "#### INSTALLED PACKAGES INFO"
   ]
  },
  {
   "cell_type": "code",
   "execution_count": 6,
   "metadata": {},
   "outputs": [
    {
     "name": "stdout",
     "output_type": "stream",
     "text": [
      "\n",
      "\n",
      "Computer name: mk-prec-7540\n",
      "Operating system: Linux, 64bit\n",
      "\n",
      "Python path: /home/marek/miniconda3/envs/mci/bin/python\n",
      "Python version: 3.9.7 | packaged by conda-forge | (default, Sep 29 2021, 19:20:46) \n",
      "[GCC 9.4.0]\n",
      "\n"
     ]
    },
    {
     "data": {
      "text/html": [
       "<div>\n",
       "<style scoped>\n",
       "    .dataframe tbody tr th:only-of-type {\n",
       "        vertical-align: middle;\n",
       "    }\n",
       "\n",
       "    .dataframe tbody tr th {\n",
       "        vertical-align: top;\n",
       "    }\n",
       "\n",
       "    .dataframe thead th {\n",
       "        text-align: right;\n",
       "    }\n",
       "</style>\n",
       "<table border=\"1\" class=\"dataframe\">\n",
       "  <thead>\n",
       "    <tr style=\"text-align: right;\">\n",
       "      <th></th>\n",
       "      <th>module</th>\n",
       "      <th>version</th>\n",
       "    </tr>\n",
       "  </thead>\n",
       "  <tbody>\n",
       "    <tr>\n",
       "      <th>4</th>\n",
       "      <td>eli5</td>\n",
       "      <td>0.11.0</td>\n",
       "    </tr>\n",
       "    <tr>\n",
       "      <th>6</th>\n",
       "      <td>ipywidgets</td>\n",
       "      <td>7.6.5</td>\n",
       "    </tr>\n",
       "    <tr>\n",
       "      <th>10</th>\n",
       "      <td>matplotlib</td>\n",
       "      <td>3.4.2</td>\n",
       "    </tr>\n",
       "    <tr>\n",
       "      <th>13</th>\n",
       "      <td>numpy</td>\n",
       "      <td>1.21.2</td>\n",
       "    </tr>\n",
       "    <tr>\n",
       "      <th>15</th>\n",
       "      <td>pandas</td>\n",
       "      <td>1.3.4</td>\n",
       "    </tr>\n",
       "    <tr>\n",
       "      <th>16</th>\n",
       "      <td>pdpbox</td>\n",
       "      <td>0.2.1</td>\n",
       "    </tr>\n",
       "    <tr>\n",
       "      <th>20</th>\n",
       "      <td>scipy</td>\n",
       "      <td>1.7.1</td>\n",
       "    </tr>\n",
       "    <tr>\n",
       "      <th>21</th>\n",
       "      <td>seaborn</td>\n",
       "      <td>0.11.2</td>\n",
       "    </tr>\n",
       "    <tr>\n",
       "      <th>24</th>\n",
       "      <td>statsmodels</td>\n",
       "      <td>0.13.0</td>\n",
       "    </tr>\n",
       "  </tbody>\n",
       "</table>\n",
       "</div>"
      ],
      "text/plain": [
       "         module version\n",
       "4          eli5  0.11.0\n",
       "6    ipywidgets   7.6.5\n",
       "10   matplotlib   3.4.2\n",
       "13        numpy  1.21.2\n",
       "15       pandas   1.3.4\n",
       "16       pdpbox   0.2.1\n",
       "20        scipy   1.7.1\n",
       "21      seaborn  0.11.2\n",
       "24  statsmodels  0.13.0"
      ]
     },
     "metadata": {},
     "output_type": "display_data"
    }
   ],
   "source": [
    "if 1:\n",
    "    packages = ['numpy', 'scipy', 'seaborn', 'pandas', 'matplotlib', 'statsmodels', 'ipywidgets','eli5', 'pdpbox']\n",
    "    display(mutils.package_versions(installedOnly=False, theMostImportant=packages))"
   ]
  },
  {
   "cell_type": "markdown",
   "metadata": {},
   "source": [
    "---"
   ]
  },
  {
   "cell_type": "markdown",
   "metadata": {},
   "source": [
    "# LOAD FILES"
   ]
  },
  {
   "cell_type": "code",
   "execution_count": 7,
   "metadata": {},
   "outputs": [],
   "source": [
    "long = pd.read_csv(RESULTS_DIR / '20201110' / 'long.csv', index_col=0, low_memory=False)\n",
    "bl = pd.read_csv(RESULTS_DIR / '20201110' / 'bl.csv', index_col=0, low_memory=False)"
   ]
  },
  {
   "cell_type": "markdown",
   "metadata": {},
   "source": [
    "####  THE baseline TABLE INFO. "
   ]
  },
  {
   "cell_type": "code",
   "execution_count": 8,
   "metadata": {},
   "outputs": [
    {
     "name": "stdout",
     "output_type": "stream",
     "text": [
      "LOADED 'BASELINE' FILE:\n",
      "\tRows(exams): 708,\n",
      "\tColumns (features): 133,\n",
      "\tPatients number (unique RID): 708,\n",
      "\t\tPatients with at least one MRI image (MRIs): 708,\n",
      "\t\tPatients without any MRI image (MRIs): 0,\n",
      "\tMRI images (IMAGEUID): 706.\n",
      "\n",
      "\n"
     ]
    }
   ],
   "source": [
    "minfo.df_info(bl, 0, \"Loaded 'Baseline' file\")"
   ]
  },
  {
   "cell_type": "code",
   "execution_count": 9,
   "metadata": {},
   "outputs": [],
   "source": [
    "# print(bl.shape)\n",
    "# print(bl.columns)"
   ]
  },
  {
   "cell_type": "markdown",
   "metadata": {},
   "source": [
    "#### LIST OF INCLUDED COLUMN BY SOURCE FILE\n",
    "\n",
    "Columns originated from different source files:\n",
    " - adnimerge,\n",
    " - neurobat,\n",
    " - gdscale,\n",
    " - added by us (with underscore suffix)."
   ]
  },
  {
   "cell_type": "code",
   "execution_count": 10,
   "metadata": {},
   "outputs": [
    {
     "name": "stdout",
     "output_type": "stream",
     "text": [
      "Total number of columns: 133\n",
      "\n"
     ]
    },
    {
     "data": {
      "text/html": [
       "<div>\n",
       "<style scoped>\n",
       "    .dataframe tbody tr th:only-of-type {\n",
       "        vertical-align: middle;\n",
       "    }\n",
       "\n",
       "    .dataframe tbody tr th {\n",
       "        vertical-align: top;\n",
       "    }\n",
       "\n",
       "    .dataframe thead th {\n",
       "        text-align: right;\n",
       "    }\n",
       "</style>\n",
       "<table border=\"1\" class=\"dataframe\">\n",
       "  <thead>\n",
       "    <tr style=\"text-align: right;\">\n",
       "      <th></th>\n",
       "      <th>adas (#16)</th>\n",
       "      <th>neuro (#14)</th>\n",
       "      <th>gds (#5)</th>\n",
       "      <th>long (#10)</th>\n",
       "      <th>cross (#10)</th>\n",
       "      <th>ours (#31)</th>\n",
       "    </tr>\n",
       "  </thead>\n",
       "  <tbody>\n",
       "    <tr>\n",
       "      <th>0</th>\n",
       "      <td>MERGE_long_adas</td>\n",
       "      <td>ANARTERR_neuro</td>\n",
       "      <td>EXAMDATE_gds</td>\n",
       "      <td>LHHC_long</td>\n",
       "      <td>LHHC_cross</td>\n",
       "      <td>ADAS13_adni_Nr_</td>\n",
       "    </tr>\n",
       "    <tr>\n",
       "      <th>1</th>\n",
       "      <td>Q10_adas</td>\n",
       "      <td>AVDEL30MIN_neuro</td>\n",
       "      <td>GDTOTAL_gds</td>\n",
       "      <td>LLV_long</td>\n",
       "      <td>LLV_cross</td>\n",
       "      <td>Abeta_</td>\n",
       "    </tr>\n",
       "    <tr>\n",
       "      <th>2</th>\n",
       "      <td>Q11_adas</td>\n",
       "      <td>AVDELTOT_neuro</td>\n",
       "      <td>MERGE_long_gds</td>\n",
       "      <td>LRHHC_long</td>\n",
       "      <td>LRHHC_cross</td>\n",
       "      <td>Age_at_scan_</td>\n",
       "    </tr>\n",
       "    <tr>\n",
       "      <th>3</th>\n",
       "      <td>Q12_adas</td>\n",
       "      <td>AVTOT6_neuro</td>\n",
       "      <td>Phase_gds</td>\n",
       "      <td>LRHHC_n_long</td>\n",
       "      <td>LRHHC_n_cross</td>\n",
       "      <td>Age_at_scan_rounded_</td>\n",
       "    </tr>\n",
       "    <tr>\n",
       "      <th>4</th>\n",
       "      <td>Q13_adas</td>\n",
       "      <td>AVTOTB_neuro</td>\n",
       "      <td>VISCODE2_gds</td>\n",
       "      <td>LRLV_long</td>\n",
       "      <td>LRLV_cross</td>\n",
       "      <td>Age_bin_</td>\n",
       "    </tr>\n",
       "    <tr>\n",
       "      <th>5</th>\n",
       "      <td>Q1_adas</td>\n",
       "      <td>CATANIMSC_neuro</td>\n",
       "      <td></td>\n",
       "      <td>LRLV_n_long</td>\n",
       "      <td>LRLV_n_cross</td>\n",
       "      <td>Age_rounded_</td>\n",
       "    </tr>\n",
       "    <tr>\n",
       "      <th>6</th>\n",
       "      <td>Q2_adas</td>\n",
       "      <td>CLOCKSCOR_neuro</td>\n",
       "      <td></td>\n",
       "      <td>RHHC_long</td>\n",
       "      <td>RHHC_cross</td>\n",
       "      <td>Apoe4_</td>\n",
       "    </tr>\n",
       "    <tr>\n",
       "      <th>7</th>\n",
       "      <td>Q3_adas</td>\n",
       "      <td>COPYSCOR_neuro</td>\n",
       "      <td></td>\n",
       "      <td>RLV_long</td>\n",
       "      <td>RLV_cross</td>\n",
       "      <td>FAQBEVG_faq_cod_</td>\n",
       "    </tr>\n",
       "    <tr>\n",
       "      <th>8</th>\n",
       "      <td>Q4_adas</td>\n",
       "      <td>EXAMDATE_neuro</td>\n",
       "      <td></td>\n",
       "      <td>complete_long</td>\n",
       "      <td>complete_cross</td>\n",
       "      <td>FAQEVENT_faq_cod_</td>\n",
       "    </tr>\n",
       "    <tr>\n",
       "      <th>9</th>\n",
       "      <td>Q5_adas</td>\n",
       "      <td>MERGE_long_neuro</td>\n",
       "      <td></td>\n",
       "      <td>eTIV_long</td>\n",
       "      <td>eTIV_cross</td>\n",
       "      <td>FAQFINAN_faq_cod_</td>\n",
       "    </tr>\n",
       "    <tr>\n",
       "      <th>10</th>\n",
       "      <td>Q6_adas</td>\n",
       "      <td>Phase_neuro</td>\n",
       "      <td></td>\n",
       "      <td></td>\n",
       "      <td></td>\n",
       "      <td>FAQFORM_faq_cod_</td>\n",
       "    </tr>\n",
       "    <tr>\n",
       "      <th>11</th>\n",
       "      <td>Q7_adas</td>\n",
       "      <td>TRAASCOR_neuro</td>\n",
       "      <td></td>\n",
       "      <td></td>\n",
       "      <td></td>\n",
       "      <td>FAQGAME_faq_cod_</td>\n",
       "    </tr>\n",
       "    <tr>\n",
       "      <th>12</th>\n",
       "      <td>Q8_adas</td>\n",
       "      <td>TRABSCOR_neuro</td>\n",
       "      <td></td>\n",
       "      <td></td>\n",
       "      <td></td>\n",
       "      <td>FAQMEAL_faq_cod_</td>\n",
       "    </tr>\n",
       "    <tr>\n",
       "      <th>13</th>\n",
       "      <td>Q9_adas</td>\n",
       "      <td>VISCODE2_neuro</td>\n",
       "      <td></td>\n",
       "      <td></td>\n",
       "      <td></td>\n",
       "      <td>FAQREM_faq_cod_</td>\n",
       "    </tr>\n",
       "    <tr>\n",
       "      <th>14</th>\n",
       "      <td>TOTAL13_adas</td>\n",
       "      <td></td>\n",
       "      <td></td>\n",
       "      <td></td>\n",
       "      <td></td>\n",
       "      <td>FAQSHOP_faq_cod_</td>\n",
       "    </tr>\n",
       "    <tr>\n",
       "      <th>15</th>\n",
       "      <td>VISCODE3_adas</td>\n",
       "      <td></td>\n",
       "      <td></td>\n",
       "      <td></td>\n",
       "      <td></td>\n",
       "      <td>FAQTRAVL_faq_cod_</td>\n",
       "    </tr>\n",
       "    <tr>\n",
       "      <th>16</th>\n",
       "      <td></td>\n",
       "      <td></td>\n",
       "      <td></td>\n",
       "      <td></td>\n",
       "      <td></td>\n",
       "      <td>FAQTV_faq_cod_</td>\n",
       "    </tr>\n",
       "    <tr>\n",
       "      <th>17</th>\n",
       "      <td></td>\n",
       "      <td></td>\n",
       "      <td></td>\n",
       "      <td></td>\n",
       "      <td></td>\n",
       "      <td>Faq_cnts_</td>\n",
       "    </tr>\n",
       "    <tr>\n",
       "      <th>18</th>\n",
       "      <td></td>\n",
       "      <td></td>\n",
       "      <td></td>\n",
       "      <td></td>\n",
       "      <td></td>\n",
       "      <td>Faq_dsc_</td>\n",
       "    </tr>\n",
       "    <tr>\n",
       "      <th>19</th>\n",
       "      <td></td>\n",
       "      <td></td>\n",
       "      <td></td>\n",
       "      <td></td>\n",
       "      <td></td>\n",
       "      <td>Gender_num_</td>\n",
       "    </tr>\n",
       "    <tr>\n",
       "      <th>20</th>\n",
       "      <td></td>\n",
       "      <td></td>\n",
       "      <td></td>\n",
       "      <td></td>\n",
       "      <td></td>\n",
       "      <td>Idx_</td>\n",
       "    </tr>\n",
       "    <tr>\n",
       "      <th>21</th>\n",
       "      <td></td>\n",
       "      <td></td>\n",
       "      <td></td>\n",
       "      <td></td>\n",
       "      <td></td>\n",
       "      <td>Imageuid_</td>\n",
       "    </tr>\n",
       "    <tr>\n",
       "      <th>22</th>\n",
       "      <td></td>\n",
       "      <td></td>\n",
       "      <td></td>\n",
       "      <td></td>\n",
       "      <td></td>\n",
       "      <td>MERGE_FS_</td>\n",
       "    </tr>\n",
       "    <tr>\n",
       "      <th>23</th>\n",
       "      <td></td>\n",
       "      <td></td>\n",
       "      <td></td>\n",
       "      <td></td>\n",
       "      <td></td>\n",
       "      <td>MRIs_Nr_</td>\n",
       "    </tr>\n",
       "    <tr>\n",
       "      <th>24</th>\n",
       "      <td></td>\n",
       "      <td></td>\n",
       "      <td></td>\n",
       "      <td></td>\n",
       "      <td></td>\n",
       "      <td>Participation_length_yr_</td>\n",
       "    </tr>\n",
       "    <tr>\n",
       "      <th>25</th>\n",
       "      <td></td>\n",
       "      <td></td>\n",
       "      <td></td>\n",
       "      <td></td>\n",
       "      <td></td>\n",
       "      <td>Subgroup_</td>\n",
       "    </tr>\n",
       "    <tr>\n",
       "      <th>26</th>\n",
       "      <td></td>\n",
       "      <td></td>\n",
       "      <td></td>\n",
       "      <td></td>\n",
       "      <td></td>\n",
       "      <td>Subgroup_num_</td>\n",
       "    </tr>\n",
       "    <tr>\n",
       "      <th>27</th>\n",
       "      <td></td>\n",
       "      <td></td>\n",
       "      <td></td>\n",
       "      <td></td>\n",
       "      <td></td>\n",
       "      <td>TOTAL13_adas_Nr_</td>\n",
       "    </tr>\n",
       "    <tr>\n",
       "      <th>28</th>\n",
       "      <td></td>\n",
       "      <td></td>\n",
       "      <td></td>\n",
       "      <td></td>\n",
       "      <td></td>\n",
       "      <td>Usage_</td>\n",
       "    </tr>\n",
       "    <tr>\n",
       "      <th>29</th>\n",
       "      <td></td>\n",
       "      <td></td>\n",
       "      <td></td>\n",
       "      <td></td>\n",
       "      <td></td>\n",
       "      <td>VISCODE3_</td>\n",
       "    </tr>\n",
       "    <tr>\n",
       "      <th>30</th>\n",
       "      <td></td>\n",
       "      <td></td>\n",
       "      <td></td>\n",
       "      <td></td>\n",
       "      <td></td>\n",
       "      <td>Visits_Nr_</td>\n",
       "    </tr>\n",
       "  </tbody>\n",
       "</table>\n",
       "</div>"
      ],
      "text/plain": [
       "         adas (#16)       neuro (#14)        gds (#5)     long (#10)  \\\n",
       "0   MERGE_long_adas    ANARTERR_neuro    EXAMDATE_gds      LHHC_long   \n",
       "1          Q10_adas  AVDEL30MIN_neuro     GDTOTAL_gds       LLV_long   \n",
       "2          Q11_adas    AVDELTOT_neuro  MERGE_long_gds     LRHHC_long   \n",
       "3          Q12_adas      AVTOT6_neuro       Phase_gds   LRHHC_n_long   \n",
       "4          Q13_adas      AVTOTB_neuro    VISCODE2_gds      LRLV_long   \n",
       "5           Q1_adas   CATANIMSC_neuro                    LRLV_n_long   \n",
       "6           Q2_adas   CLOCKSCOR_neuro                      RHHC_long   \n",
       "7           Q3_adas    COPYSCOR_neuro                       RLV_long   \n",
       "8           Q4_adas    EXAMDATE_neuro                  complete_long   \n",
       "9           Q5_adas  MERGE_long_neuro                      eTIV_long   \n",
       "10          Q6_adas       Phase_neuro                                  \n",
       "11          Q7_adas    TRAASCOR_neuro                                  \n",
       "12          Q8_adas    TRABSCOR_neuro                                  \n",
       "13          Q9_adas    VISCODE2_neuro                                  \n",
       "14     TOTAL13_adas                                                    \n",
       "15    VISCODE3_adas                                                    \n",
       "16                                                                     \n",
       "17                                                                     \n",
       "18                                                                     \n",
       "19                                                                     \n",
       "20                                                                     \n",
       "21                                                                     \n",
       "22                                                                     \n",
       "23                                                                     \n",
       "24                                                                     \n",
       "25                                                                     \n",
       "26                                                                     \n",
       "27                                                                     \n",
       "28                                                                     \n",
       "29                                                                     \n",
       "30                                                                     \n",
       "\n",
       "       cross (#10)                ours (#31)  \n",
       "0       LHHC_cross           ADAS13_adni_Nr_  \n",
       "1        LLV_cross                    Abeta_  \n",
       "2      LRHHC_cross              Age_at_scan_  \n",
       "3    LRHHC_n_cross      Age_at_scan_rounded_  \n",
       "4       LRLV_cross                  Age_bin_  \n",
       "5     LRLV_n_cross              Age_rounded_  \n",
       "6       RHHC_cross                    Apoe4_  \n",
       "7        RLV_cross          FAQBEVG_faq_cod_  \n",
       "8   complete_cross         FAQEVENT_faq_cod_  \n",
       "9       eTIV_cross         FAQFINAN_faq_cod_  \n",
       "10                          FAQFORM_faq_cod_  \n",
       "11                          FAQGAME_faq_cod_  \n",
       "12                          FAQMEAL_faq_cod_  \n",
       "13                           FAQREM_faq_cod_  \n",
       "14                          FAQSHOP_faq_cod_  \n",
       "15                         FAQTRAVL_faq_cod_  \n",
       "16                            FAQTV_faq_cod_  \n",
       "17                                 Faq_cnts_  \n",
       "18                                  Faq_dsc_  \n",
       "19                               Gender_num_  \n",
       "20                                      Idx_  \n",
       "21                                 Imageuid_  \n",
       "22                                 MERGE_FS_  \n",
       "23                                  MRIs_Nr_  \n",
       "24                  Participation_length_yr_  \n",
       "25                                 Subgroup_  \n",
       "26                             Subgroup_num_  \n",
       "27                          TOTAL13_adas_Nr_  \n",
       "28                                    Usage_  \n",
       "29                                 VISCODE3_  \n",
       "30                                Visits_Nr_  "
      ]
     },
     "execution_count": 10,
     "metadata": {},
     "output_type": "execute_result"
    }
   ],
   "source": [
    "minfo.included_feature_info(bl, pattern='adas-neuro-cross-long-gds-_')"
   ]
  },
  {
   "cell_type": "markdown",
   "metadata": {},
   "source": [
    "#### SUBSET OF COLUMNS\n",
    "\n",
    "Out of the the main table, we select the subset of column names to limit the size of further tables. (Displayed the first 10 rows of limited bl table.)"
   ]
  },
  {
   "cell_type": "code",
   "execution_count": 11,
   "metadata": {},
   "outputs": [],
   "source": [
    "cols = ['RID', 'PTGENDER', 'AGE', 'Age_rounded_', 'ADAS13_adni', 'ADAS13_adni_Nr_',\n",
    "        'TOTAL13_adas', 'TOTAL13_adas_Nr_',  'MRIs_Nr_', 'Subgroup_', 'Participation_length_yr_', 'Visits_Nr_']"
   ]
  },
  {
   "cell_type": "code",
   "execution_count": 12,
   "metadata": {},
   "outputs": [
    {
     "data": {
      "text/html": [
       "<div>\n",
       "<style scoped>\n",
       "    .dataframe tbody tr th:only-of-type {\n",
       "        vertical-align: middle;\n",
       "    }\n",
       "\n",
       "    .dataframe tbody tr th {\n",
       "        vertical-align: top;\n",
       "    }\n",
       "\n",
       "    .dataframe thead th {\n",
       "        text-align: right;\n",
       "    }\n",
       "</style>\n",
       "<table border=\"1\" class=\"dataframe\">\n",
       "  <thead>\n",
       "    <tr style=\"text-align: right;\">\n",
       "      <th></th>\n",
       "      <th>RID</th>\n",
       "      <th>PTGENDER</th>\n",
       "      <th>AGE</th>\n",
       "      <th>Age_rounded_</th>\n",
       "      <th>ADAS13_adni</th>\n",
       "      <th>ADAS13_adni_Nr_</th>\n",
       "      <th>TOTAL13_adas</th>\n",
       "      <th>TOTAL13_adas_Nr_</th>\n",
       "      <th>MRIs_Nr_</th>\n",
       "      <th>Subgroup_</th>\n",
       "      <th>Participation_length_yr_</th>\n",
       "      <th>Visits_Nr_</th>\n",
       "    </tr>\n",
       "  </thead>\n",
       "  <tbody>\n",
       "    <tr>\n",
       "      <th>0</th>\n",
       "      <td>4</td>\n",
       "      <td>Male</td>\n",
       "      <td>67.5</td>\n",
       "      <td>68</td>\n",
       "      <td>21.33</td>\n",
       "      <td>5</td>\n",
       "      <td>21.33</td>\n",
       "      <td>5</td>\n",
       "      <td>5</td>\n",
       "      <td>sMCI</td>\n",
       "      <td>3.03</td>\n",
       "      <td>6</td>\n",
       "    </tr>\n",
       "    <tr>\n",
       "      <th>6</th>\n",
       "      <td>6</td>\n",
       "      <td>Female</td>\n",
       "      <td>80.4</td>\n",
       "      <td>80</td>\n",
       "      <td>25.67</td>\n",
       "      <td>6</td>\n",
       "      <td>25.67</td>\n",
       "      <td>6</td>\n",
       "      <td>5</td>\n",
       "      <td>sMCI</td>\n",
       "      <td>3.03</td>\n",
       "      <td>7</td>\n",
       "    </tr>\n",
       "    <tr>\n",
       "      <th>13</th>\n",
       "      <td>30</td>\n",
       "      <td>Female</td>\n",
       "      <td>80.0</td>\n",
       "      <td>80</td>\n",
       "      <td>22.00</td>\n",
       "      <td>6</td>\n",
       "      <td>22.00</td>\n",
       "      <td>6</td>\n",
       "      <td>6</td>\n",
       "      <td>cAD</td>\n",
       "      <td>3.10</td>\n",
       "      <td>7</td>\n",
       "    </tr>\n",
       "    <tr>\n",
       "      <th>20</th>\n",
       "      <td>33</td>\n",
       "      <td>Male</td>\n",
       "      <td>83.3</td>\n",
       "      <td>83</td>\n",
       "      <td>25.67</td>\n",
       "      <td>6</td>\n",
       "      <td>25.67</td>\n",
       "      <td>6</td>\n",
       "      <td>6</td>\n",
       "      <td>sMCI</td>\n",
       "      <td>3.09</td>\n",
       "      <td>6</td>\n",
       "    </tr>\n",
       "    <tr>\n",
       "      <th>26</th>\n",
       "      <td>38</td>\n",
       "      <td>Male</td>\n",
       "      <td>76.8</td>\n",
       "      <td>77</td>\n",
       "      <td>16.33</td>\n",
       "      <td>3</td>\n",
       "      <td>16.33</td>\n",
       "      <td>3</td>\n",
       "      <td>3</td>\n",
       "      <td>sMCI</td>\n",
       "      <td>0.98</td>\n",
       "      <td>3</td>\n",
       "    </tr>\n",
       "    <tr>\n",
       "      <th>29</th>\n",
       "      <td>41</td>\n",
       "      <td>Female</td>\n",
       "      <td>70.9</td>\n",
       "      <td>71</td>\n",
       "      <td>28.33</td>\n",
       "      <td>7</td>\n",
       "      <td>28.33</td>\n",
       "      <td>7</td>\n",
       "      <td>7</td>\n",
       "      <td>cAD</td>\n",
       "      <td>4.17</td>\n",
       "      <td>8</td>\n",
       "    </tr>\n",
       "    <tr>\n",
       "      <th>37</th>\n",
       "      <td>42</td>\n",
       "      <td>Male</td>\n",
       "      <td>72.8</td>\n",
       "      <td>73</td>\n",
       "      <td>12.00</td>\n",
       "      <td>11</td>\n",
       "      <td>12.00</td>\n",
       "      <td>11</td>\n",
       "      <td>9</td>\n",
       "      <td>cAD</td>\n",
       "      <td>8.50</td>\n",
       "      <td>18</td>\n",
       "    </tr>\n",
       "    <tr>\n",
       "      <th>55</th>\n",
       "      <td>50</td>\n",
       "      <td>Male</td>\n",
       "      <td>77.6</td>\n",
       "      <td>78</td>\n",
       "      <td>29.00</td>\n",
       "      <td>5</td>\n",
       "      <td>29.00</td>\n",
       "      <td>5</td>\n",
       "      <td>5</td>\n",
       "      <td>cAD</td>\n",
       "      <td>2.96</td>\n",
       "      <td>7</td>\n",
       "    </tr>\n",
       "    <tr>\n",
       "      <th>62</th>\n",
       "      <td>51</td>\n",
       "      <td>Male</td>\n",
       "      <td>66.5</td>\n",
       "      <td>66</td>\n",
       "      <td>17.67</td>\n",
       "      <td>11</td>\n",
       "      <td>17.67</td>\n",
       "      <td>11</td>\n",
       "      <td>6</td>\n",
       "      <td>cAD</td>\n",
       "      <td>10.11</td>\n",
       "      <td>13</td>\n",
       "    </tr>\n",
       "    <tr>\n",
       "      <th>75</th>\n",
       "      <td>54</td>\n",
       "      <td>Female</td>\n",
       "      <td>81.0</td>\n",
       "      <td>81</td>\n",
       "      <td>32.33</td>\n",
       "      <td>6</td>\n",
       "      <td>32.33</td>\n",
       "      <td>6</td>\n",
       "      <td>5</td>\n",
       "      <td>cAD</td>\n",
       "      <td>2.98</td>\n",
       "      <td>7</td>\n",
       "    </tr>\n",
       "  </tbody>\n",
       "</table>\n",
       "</div>"
      ],
      "text/plain": [
       "    RID PTGENDER   AGE  Age_rounded_  ADAS13_adni  ADAS13_adni_Nr_  \\\n",
       "0     4     Male  67.5            68        21.33                5   \n",
       "6     6   Female  80.4            80        25.67                6   \n",
       "13   30   Female  80.0            80        22.00                6   \n",
       "20   33     Male  83.3            83        25.67                6   \n",
       "26   38     Male  76.8            77        16.33                3   \n",
       "29   41   Female  70.9            71        28.33                7   \n",
       "37   42     Male  72.8            73        12.00               11   \n",
       "55   50     Male  77.6            78        29.00                5   \n",
       "62   51     Male  66.5            66        17.67               11   \n",
       "75   54   Female  81.0            81        32.33                6   \n",
       "\n",
       "    TOTAL13_adas  TOTAL13_adas_Nr_  MRIs_Nr_ Subgroup_  \\\n",
       "0          21.33                 5         5      sMCI   \n",
       "6          25.67                 6         5      sMCI   \n",
       "13         22.00                 6         6       cAD   \n",
       "20         25.67                 6         6      sMCI   \n",
       "26         16.33                 3         3      sMCI   \n",
       "29         28.33                 7         7       cAD   \n",
       "37         12.00                11         9       cAD   \n",
       "55         29.00                 5         5       cAD   \n",
       "62         17.67                11         6       cAD   \n",
       "75         32.33                 6         5       cAD   \n",
       "\n",
       "    Participation_length_yr_  Visits_Nr_  \n",
       "0                       3.03           6  \n",
       "6                       3.03           7  \n",
       "13                      3.10           7  \n",
       "20                      3.09           6  \n",
       "26                      0.98           3  \n",
       "29                      4.17           8  \n",
       "37                      8.50          18  \n",
       "55                      2.96           7  \n",
       "62                     10.11          13  \n",
       "75                      2.98           7  "
      ]
     },
     "execution_count": 12,
     "metadata": {},
     "output_type": "execute_result"
    }
   ],
   "source": [
    "bl[cols].head(10)"
   ]
  },
  {
   "cell_type": "code",
   "execution_count": 13,
   "metadata": {},
   "outputs": [],
   "source": [
    "#minfo.iterate_patient_GUI(bl[cols])"
   ]
  },
  {
   "cell_type": "markdown",
   "metadata": {},
   "source": [
    "#### SIMPLE STATS"
   ]
  },
  {
   "cell_type": "code",
   "execution_count": 14,
   "metadata": {},
   "outputs": [
    {
     "data": {
      "text/html": [
       "<div>\n",
       "<style scoped>\n",
       "    .dataframe tbody tr th:only-of-type {\n",
       "        vertical-align: middle;\n",
       "    }\n",
       "\n",
       "    .dataframe tbody tr th {\n",
       "        vertical-align: top;\n",
       "    }\n",
       "\n",
       "    .dataframe thead th {\n",
       "        text-align: right;\n",
       "    }\n",
       "</style>\n",
       "<table border=\"1\" class=\"dataframe\">\n",
       "  <thead>\n",
       "    <tr style=\"text-align: right;\">\n",
       "      <th></th>\n",
       "      <th>max.</th>\n",
       "      <th>mean</th>\n",
       "      <th>min.</th>\n",
       "      <th>std</th>\n",
       "      <th>val_range</th>\n",
       "      <th>NaN_Nr</th>\n",
       "    </tr>\n",
       "  </thead>\n",
       "  <tbody>\n",
       "    <tr>\n",
       "      <th>RID</th>\n",
       "      <td>5099.00</td>\n",
       "      <td>2454.68</td>\n",
       "      <td>4.00</td>\n",
       "      <td>1779.94</td>\n",
       "      <td>5095.00</td>\n",
       "      <td>0</td>\n",
       "    </tr>\n",
       "    <tr>\n",
       "      <th>AGE</th>\n",
       "      <td>91.40</td>\n",
       "      <td>73.44</td>\n",
       "      <td>55.00</td>\n",
       "      <td>7.32</td>\n",
       "      <td>36.40</td>\n",
       "      <td>0</td>\n",
       "    </tr>\n",
       "    <tr>\n",
       "      <th>Age_rounded_</th>\n",
       "      <td>91.00</td>\n",
       "      <td>73.42</td>\n",
       "      <td>55.00</td>\n",
       "      <td>7.32</td>\n",
       "      <td>36.00</td>\n",
       "      <td>0</td>\n",
       "    </tr>\n",
       "    <tr>\n",
       "      <th>ADAS13_adni</th>\n",
       "      <td>39.67</td>\n",
       "      <td>17.19</td>\n",
       "      <td>3.00</td>\n",
       "      <td>6.60</td>\n",
       "      <td>36.67</td>\n",
       "      <td>2</td>\n",
       "    </tr>\n",
       "    <tr>\n",
       "      <th>ADAS13_adni_Nr_</th>\n",
       "      <td>15.00</td>\n",
       "      <td>6.36</td>\n",
       "      <td>2.00</td>\n",
       "      <td>2.44</td>\n",
       "      <td>13.00</td>\n",
       "      <td>0</td>\n",
       "    </tr>\n",
       "    <tr>\n",
       "      <th>TOTAL13_adas</th>\n",
       "      <td>39.67</td>\n",
       "      <td>17.19</td>\n",
       "      <td>3.00</td>\n",
       "      <td>6.60</td>\n",
       "      <td>36.67</td>\n",
       "      <td>2</td>\n",
       "    </tr>\n",
       "    <tr>\n",
       "      <th>TOTAL13_adas_Nr_</th>\n",
       "      <td>15.00</td>\n",
       "      <td>6.36</td>\n",
       "      <td>2.00</td>\n",
       "      <td>2.44</td>\n",
       "      <td>13.00</td>\n",
       "      <td>0</td>\n",
       "    </tr>\n",
       "    <tr>\n",
       "      <th>MRIs_Nr_</th>\n",
       "      <td>12.00</td>\n",
       "      <td>5.57</td>\n",
       "      <td>3.00</td>\n",
       "      <td>1.60</td>\n",
       "      <td>9.00</td>\n",
       "      <td>0</td>\n",
       "    </tr>\n",
       "    <tr>\n",
       "      <th>Participation_length_yr_</th>\n",
       "      <td>13.85</td>\n",
       "      <td>4.78</td>\n",
       "      <td>0.53</td>\n",
       "      <td>2.78</td>\n",
       "      <td>13.32</td>\n",
       "      <td>0</td>\n",
       "    </tr>\n",
       "    <tr>\n",
       "      <th>Visits_Nr_</th>\n",
       "      <td>21.00</td>\n",
       "      <td>8.95</td>\n",
       "      <td>3.00</td>\n",
       "      <td>3.79</td>\n",
       "      <td>18.00</td>\n",
       "      <td>0</td>\n",
       "    </tr>\n",
       "  </tbody>\n",
       "</table>\n",
       "</div>"
      ],
      "text/plain": [
       "                             max.     mean   min.      std  val_range  NaN_Nr\n",
       "RID                       5099.00  2454.68   4.00  1779.94    5095.00       0\n",
       "AGE                         91.40    73.44  55.00     7.32      36.40       0\n",
       "Age_rounded_                91.00    73.42  55.00     7.32      36.00       0\n",
       "ADAS13_adni                 39.67    17.19   3.00     6.60      36.67       2\n",
       "ADAS13_adni_Nr_             15.00     6.36   2.00     2.44      13.00       0\n",
       "TOTAL13_adas                39.67    17.19   3.00     6.60      36.67       2\n",
       "TOTAL13_adas_Nr_            15.00     6.36   2.00     2.44      13.00       0\n",
       "MRIs_Nr_                    12.00     5.57   3.00     1.60       9.00       0\n",
       "Participation_length_yr_    13.85     4.78   0.53     2.78      13.32       0\n",
       "Visits_Nr_                  21.00     8.95   3.00     3.79      18.00       0"
      ]
     },
     "execution_count": 14,
     "metadata": {},
     "output_type": "execute_result"
    }
   ],
   "source": [
    "minfo.df_stats_info(bl[cols])"
   ]
  },
  {
   "cell_type": "markdown",
   "metadata": {},
   "source": [
    "---"
   ]
  },
  {
   "cell_type": "markdown",
   "metadata": {},
   "source": [
    "# DATA SPLITTING"
   ]
  },
  {
   "cell_type": "code",
   "execution_count": 15,
   "metadata": {},
   "outputs": [
    {
     "data": {
      "text/html": [
       "<div>\n",
       "<style scoped>\n",
       "    .dataframe tbody tr th:only-of-type {\n",
       "        vertical-align: middle;\n",
       "    }\n",
       "\n",
       "    .dataframe tbody tr th {\n",
       "        vertical-align: top;\n",
       "    }\n",
       "\n",
       "    .dataframe thead th {\n",
       "        text-align: right;\n",
       "    }\n",
       "</style>\n",
       "<table border=\"1\" class=\"dataframe\">\n",
       "  <thead>\n",
       "    <tr style=\"text-align: right;\">\n",
       "      <th></th>\n",
       "      <th>Subgroup_</th>\n",
       "      <th># Subjs</th>\n",
       "      <th>% Subjs</th>\n",
       "    </tr>\n",
       "  </thead>\n",
       "  <tbody>\n",
       "    <tr>\n",
       "      <th>1</th>\n",
       "      <td>cAD</td>\n",
       "      <td>327</td>\n",
       "      <td>0.46</td>\n",
       "    </tr>\n",
       "    <tr>\n",
       "      <th>0</th>\n",
       "      <td>sMCI</td>\n",
       "      <td>381</td>\n",
       "      <td>0.54</td>\n",
       "    </tr>\n",
       "  </tbody>\n",
       "</table>\n",
       "</div>"
      ],
      "text/plain": [
       "  Subgroup_  # Subjs  % Subjs\n",
       "1       cAD      327     0.46\n",
       "0      sMCI      381     0.54"
      ]
     },
     "execution_count": 15,
     "metadata": {},
     "output_type": "execute_result"
    }
   ],
   "source": [
    "minfo.feature_split_info(bl, 'Subgroup_', col_name=\"Subjs\")"
   ]
  },
  {
   "cell_type": "markdown",
   "metadata": {},
   "source": [
    "#### TRAIN / TEST SETS WITH \"**StratifiedShuffleSplit**\" FUNCTION"
   ]
  },
  {
   "cell_type": "code",
   "execution_count": 16,
   "metadata": {},
   "outputs": [
    {
     "name": "stdout",
     "output_type": "stream",
     "text": [
      "A new column \"Age_bin_\" is added to the \"bl\" table\n",
      "A new column \"Usage_\" is added to the \"bl\" table\n"
     ]
    }
   ],
   "source": [
    "bl = mbal.train_test_split_baseline(bl,age_bins=[50,60,70,80,95],  split_categories=['Age_bin_', 'Subgroup_', 'PTGENDER'],\n",
    "                                    test_size=0.2, random_state=42, df_name='bl', sh=True)"
   ]
  },
  {
   "cell_type": "markdown",
   "metadata": {},
   "source": [
    "#### TRAIN / TEST / BL size"
   ]
  },
  {
   "cell_type": "code",
   "execution_count": 17,
   "metadata": {},
   "outputs": [
    {
     "name": "stdout",
     "output_type": "stream",
     "text": [
      "708\n",
      "train    566\n",
      "test     142\n",
      "Name: Usage_, dtype: int64\n"
     ]
    }
   ],
   "source": [
    "print(bl.shape[0])\n",
    "print(bl.Usage_.value_counts())"
   ]
  },
  {
   "cell_type": "markdown",
   "metadata": {},
   "source": [
    "#### VALUE\\_COUNTS FOR \"AGE\\_bin\\_\""
   ]
  },
  {
   "cell_type": "code",
   "execution_count": 18,
   "metadata": {},
   "outputs": [
    {
     "data": {
      "text/html": [
       "<div>\n",
       "<style scoped>\n",
       "    .dataframe tbody tr th:only-of-type {\n",
       "        vertical-align: middle;\n",
       "    }\n",
       "\n",
       "    .dataframe tbody tr th {\n",
       "        vertical-align: top;\n",
       "    }\n",
       "\n",
       "    .dataframe thead th {\n",
       "        text-align: right;\n",
       "    }\n",
       "</style>\n",
       "<table border=\"1\" class=\"dataframe\">\n",
       "  <thead>\n",
       "    <tr style=\"text-align: right;\">\n",
       "      <th></th>\n",
       "      <th>Age_bin_</th>\n",
       "      <th>% train_set</th>\n",
       "      <th>% test_set</th>\n",
       "      <th>% bl (all)</th>\n",
       "    </tr>\n",
       "  </thead>\n",
       "  <tbody>\n",
       "    <tr>\n",
       "      <th>3</th>\n",
       "      <td>(50-60]</td>\n",
       "      <td>0.05</td>\n",
       "      <td>0.04</td>\n",
       "      <td>0.05</td>\n",
       "    </tr>\n",
       "    <tr>\n",
       "      <th>1</th>\n",
       "      <td>(60-70]</td>\n",
       "      <td>0.28</td>\n",
       "      <td>0.29</td>\n",
       "      <td>0.28</td>\n",
       "    </tr>\n",
       "    <tr>\n",
       "      <th>0</th>\n",
       "      <td>(70-80]</td>\n",
       "      <td>0.49</td>\n",
       "      <td>0.49</td>\n",
       "      <td>0.49</td>\n",
       "    </tr>\n",
       "    <tr>\n",
       "      <th>2</th>\n",
       "      <td>(80-95]</td>\n",
       "      <td>0.18</td>\n",
       "      <td>0.18</td>\n",
       "      <td>0.18</td>\n",
       "    </tr>\n",
       "  </tbody>\n",
       "</table>\n",
       "</div>"
      ],
      "text/plain": [
       "  Age_bin_  % train_set  % test_set  % bl (all)\n",
       "3  (50-60]         0.05        0.04        0.05\n",
       "1  (60-70]         0.28        0.29        0.28\n",
       "0  (70-80]         0.49        0.49        0.49\n",
       "2  (80-95]         0.18        0.18        0.18"
      ]
     },
     "execution_count": 18,
     "metadata": {},
     "output_type": "execute_result"
    }
   ],
   "source": [
    "mbal.check_train_test_bl_balance(bl, feature_name='Age_bin_', display_type='%')"
   ]
  },
  {
   "cell_type": "markdown",
   "metadata": {},
   "source": [
    "#### VALUE\\_COUNTS FOR \"Subgroup\\_\""
   ]
  },
  {
   "cell_type": "code",
   "execution_count": 19,
   "metadata": {},
   "outputs": [
    {
     "data": {
      "text/html": [
       "<div>\n",
       "<style scoped>\n",
       "    .dataframe tbody tr th:only-of-type {\n",
       "        vertical-align: middle;\n",
       "    }\n",
       "\n",
       "    .dataframe tbody tr th {\n",
       "        vertical-align: top;\n",
       "    }\n",
       "\n",
       "    .dataframe thead th {\n",
       "        text-align: right;\n",
       "    }\n",
       "</style>\n",
       "<table border=\"1\" class=\"dataframe\">\n",
       "  <thead>\n",
       "    <tr style=\"text-align: right;\">\n",
       "      <th></th>\n",
       "      <th>Subgroup_</th>\n",
       "      <th>% train_set</th>\n",
       "      <th>% test_set</th>\n",
       "      <th>% bl (all)</th>\n",
       "    </tr>\n",
       "  </thead>\n",
       "  <tbody>\n",
       "    <tr>\n",
       "      <th>1</th>\n",
       "      <td>cAD</td>\n",
       "      <td>0.46</td>\n",
       "      <td>0.46</td>\n",
       "      <td>0.46</td>\n",
       "    </tr>\n",
       "    <tr>\n",
       "      <th>0</th>\n",
       "      <td>sMCI</td>\n",
       "      <td>0.54</td>\n",
       "      <td>0.54</td>\n",
       "      <td>0.54</td>\n",
       "    </tr>\n",
       "  </tbody>\n",
       "</table>\n",
       "</div>"
      ],
      "text/plain": [
       "  Subgroup_  % train_set  % test_set  % bl (all)\n",
       "1       cAD         0.46        0.46        0.46\n",
       "0      sMCI         0.54        0.54        0.54"
      ]
     },
     "execution_count": 19,
     "metadata": {},
     "output_type": "execute_result"
    }
   ],
   "source": [
    "mbal.check_train_test_bl_balance(bl, feature_name='Subgroup_', display_type='%')"
   ]
  },
  {
   "cell_type": "markdown",
   "metadata": {},
   "source": [
    "#### VALUE\\_COUNTS FOR GENDER"
   ]
  },
  {
   "cell_type": "code",
   "execution_count": 20,
   "metadata": {},
   "outputs": [
    {
     "data": {
      "text/html": [
       "<div>\n",
       "<style scoped>\n",
       "    .dataframe tbody tr th:only-of-type {\n",
       "        vertical-align: middle;\n",
       "    }\n",
       "\n",
       "    .dataframe tbody tr th {\n",
       "        vertical-align: top;\n",
       "    }\n",
       "\n",
       "    .dataframe thead th {\n",
       "        text-align: right;\n",
       "    }\n",
       "</style>\n",
       "<table border=\"1\" class=\"dataframe\">\n",
       "  <thead>\n",
       "    <tr style=\"text-align: right;\">\n",
       "      <th></th>\n",
       "      <th>PTGENDER</th>\n",
       "      <th>% train_set</th>\n",
       "      <th>% test_set</th>\n",
       "      <th>% bl (all)</th>\n",
       "    </tr>\n",
       "  </thead>\n",
       "  <tbody>\n",
       "    <tr>\n",
       "      <th>1</th>\n",
       "      <td>Female</td>\n",
       "      <td>0.4</td>\n",
       "      <td>0.41</td>\n",
       "      <td>0.4</td>\n",
       "    </tr>\n",
       "    <tr>\n",
       "      <th>0</th>\n",
       "      <td>Male</td>\n",
       "      <td>0.6</td>\n",
       "      <td>0.59</td>\n",
       "      <td>0.6</td>\n",
       "    </tr>\n",
       "  </tbody>\n",
       "</table>\n",
       "</div>"
      ],
      "text/plain": [
       "  PTGENDER  % train_set  % test_set  % bl (all)\n",
       "1   Female          0.4        0.41         0.4\n",
       "0     Male          0.6        0.59         0.6"
      ]
     },
     "execution_count": 20,
     "metadata": {},
     "output_type": "execute_result"
    }
   ],
   "source": [
    "mbal.check_train_test_bl_balance(bl, feature_name='PTGENDER', display_type='%')"
   ]
  },
  {
   "cell_type": "markdown",
   "metadata": {},
   "source": [
    "#### MANUAL INSPECTION"
   ]
  },
  {
   "cell_type": "code",
   "execution_count": 21,
   "metadata": {},
   "outputs": [
    {
     "name": "stdout",
     "output_type": "stream",
     "text": [
      "0.7994350282485876 0.20056497175141244\n",
      "********************************************************************************\n",
      "(50-60]    0.05\n",
      "(60-70]    0.28\n",
      "(70-80]    0.49\n",
      "(80-95]    0.18\n",
      "Name: Age_bin_, dtype: float64\n",
      "(50-60]    0.04\n",
      "(60-70]    0.29\n",
      "(70-80]    0.49\n",
      "(80-95]    0.18\n",
      "Name: Age_bin_, dtype: float64\n",
      "(50-60]    0.05\n",
      "(60-70]    0.28\n",
      "(70-80]    0.49\n",
      "(80-95]    0.18\n",
      "Name: Age_bin_, dtype: float64\n",
      "********************************************************************************\n",
      "sMCI    0.54\n",
      "cAD     0.46\n",
      "Name: Subgroup_, dtype: float64\n",
      "sMCI    0.54\n",
      "cAD     0.46\n",
      "Name: Subgroup_, dtype: float64\n",
      "sMCI    0.54\n",
      "cAD     0.46\n",
      "Name: Subgroup_, dtype: float64\n",
      "********************************************************************************\n",
      "Male      0.6\n",
      "Female    0.4\n",
      "Name: PTGENDER, dtype: float64\n",
      "Male      0.59\n",
      "Female    0.41\n",
      "Name: PTGENDER, dtype: float64\n",
      "Male      0.6\n",
      "Female    0.4\n",
      "Name: PTGENDER, dtype: float64\n",
      "********************************************************************************\n"
     ]
    }
   ],
   "source": [
    "check = 1\n",
    "if check:\n",
    "    train_set = bl.loc[bl.Usage_ == 'train']\n",
    "    test_set = bl.loc[bl.Usage_ == 'test'] \n",
    "\n",
    "    print(len(train_set)/len(bl), len(test_set)/len(bl))\n",
    "    print(80*'*')\n",
    "    print(train_set.Age_bin_.value_counts(sort=False) / len(train_set))\n",
    "    print(test_set.Age_bin_.value_counts(sort=False) / len(test_set))\n",
    "    print(bl.Age_bin_.value_counts(sort=False) / len(bl))\n",
    "    print(80*'*')\n",
    "    print(train_set.Subgroup_.value_counts() / len(train_set))\n",
    "    print(test_set.Subgroup_.value_counts() / len(test_set))\n",
    "    print(bl.Subgroup_.value_counts() / len(bl))\n",
    "    print(80*'*')\n",
    "    print(train_set.PTGENDER.value_counts() / len(train_set))\n",
    "    print(test_set.PTGENDER.value_counts() / len(test_set))\n",
    "    print(bl.PTGENDER.value_counts() / len(bl))\n",
    "    print(80*'*')"
   ]
  },
  {
   "cell_type": "markdown",
   "metadata": {},
   "source": [
    "---"
   ]
  },
  {
   "cell_type": "markdown",
   "metadata": {},
   "source": [
    "# CHECK MEAN VALUES AMONG SUBGROUPS"
   ]
  },
  {
   "cell_type": "markdown",
   "metadata": {},
   "source": [
    "#### REDUCED NUMBER OF COLUMNS"
   ]
  },
  {
   "cell_type": "code",
   "execution_count": 22,
   "metadata": {},
   "outputs": [],
   "source": [
    "cols2=['RID', 'AGE', 'TOTAL13_adas_Nr_', 'MRIs_Nr_', 'PTGENDER', 'Subgroup_', 'Usage_']"
   ]
  },
  {
   "cell_type": "markdown",
   "metadata": {},
   "source": [
    "#### MEAN VALUES IN TRAIN-TEST SETS"
   ]
  },
  {
   "cell_type": "code",
   "execution_count": 23,
   "metadata": {},
   "outputs": [
    {
     "data": {
      "text/html": [
       "<div>\n",
       "<style scoped>\n",
       "    .dataframe tbody tr th:only-of-type {\n",
       "        vertical-align: middle;\n",
       "    }\n",
       "\n",
       "    .dataframe tbody tr th {\n",
       "        vertical-align: top;\n",
       "    }\n",
       "\n",
       "    .dataframe thead th {\n",
       "        text-align: right;\n",
       "    }\n",
       "</style>\n",
       "<table border=\"1\" class=\"dataframe\">\n",
       "  <thead>\n",
       "    <tr style=\"text-align: right;\">\n",
       "      <th></th>\n",
       "      <th>RID</th>\n",
       "      <th>AGE</th>\n",
       "      <th>TOTAL13_adas_Nr_</th>\n",
       "      <th>MRIs_Nr_</th>\n",
       "    </tr>\n",
       "    <tr>\n",
       "      <th>Usage_</th>\n",
       "      <th></th>\n",
       "      <th></th>\n",
       "      <th></th>\n",
       "      <th></th>\n",
       "    </tr>\n",
       "  </thead>\n",
       "  <tbody>\n",
       "    <tr>\n",
       "      <th>test</th>\n",
       "      <td>2589.7</td>\n",
       "      <td>73.3</td>\n",
       "      <td>6.6</td>\n",
       "      <td>5.7</td>\n",
       "    </tr>\n",
       "    <tr>\n",
       "      <th>train</th>\n",
       "      <td>2420.8</td>\n",
       "      <td>73.5</td>\n",
       "      <td>6.3</td>\n",
       "      <td>5.5</td>\n",
       "    </tr>\n",
       "  </tbody>\n",
       "</table>\n",
       "</div>"
      ],
      "text/plain": [
       "           RID   AGE  TOTAL13_adas_Nr_  MRIs_Nr_\n",
       "Usage_                                          \n",
       "test    2589.7  73.3               6.6       5.7\n",
       "train   2420.8  73.5               6.3       5.5"
      ]
     },
     "execution_count": 23,
     "metadata": {},
     "output_type": "execute_result"
    }
   ],
   "source": [
    "bl[cols2].groupby(['Usage_']).mean().round(1)"
   ]
  },
  {
   "cell_type": "markdown",
   "metadata": {},
   "source": [
    "#### MEAN VALUES IN TRAIN-TEST SETS & SUBGROUPS"
   ]
  },
  {
   "cell_type": "code",
   "execution_count": 24,
   "metadata": {},
   "outputs": [
    {
     "data": {
      "text/html": [
       "<div>\n",
       "<style scoped>\n",
       "    .dataframe tbody tr th:only-of-type {\n",
       "        vertical-align: middle;\n",
       "    }\n",
       "\n",
       "    .dataframe tbody tr th {\n",
       "        vertical-align: top;\n",
       "    }\n",
       "\n",
       "    .dataframe thead th {\n",
       "        text-align: right;\n",
       "    }\n",
       "</style>\n",
       "<table border=\"1\" class=\"dataframe\">\n",
       "  <thead>\n",
       "    <tr style=\"text-align: right;\">\n",
       "      <th></th>\n",
       "      <th></th>\n",
       "      <th>RID</th>\n",
       "      <th>AGE</th>\n",
       "      <th>TOTAL13_adas_Nr_</th>\n",
       "      <th>MRIs_Nr_</th>\n",
       "    </tr>\n",
       "    <tr>\n",
       "      <th>Usage_</th>\n",
       "      <th>Subgroup_</th>\n",
       "      <th></th>\n",
       "      <th></th>\n",
       "      <th></th>\n",
       "      <th></th>\n",
       "    </tr>\n",
       "  </thead>\n",
       "  <tbody>\n",
       "    <tr>\n",
       "      <th rowspan=\"2\" valign=\"top\">test</th>\n",
       "      <th>cAD</th>\n",
       "      <td>2135.3</td>\n",
       "      <td>74.0</td>\n",
       "      <td>7.1</td>\n",
       "      <td>6.0</td>\n",
       "    </tr>\n",
       "    <tr>\n",
       "      <th>sMCI</th>\n",
       "      <td>2984.3</td>\n",
       "      <td>72.7</td>\n",
       "      <td>6.2</td>\n",
       "      <td>5.4</td>\n",
       "    </tr>\n",
       "    <tr>\n",
       "      <th rowspan=\"2\" valign=\"top\">train</th>\n",
       "      <th>cAD</th>\n",
       "      <td>2051.2</td>\n",
       "      <td>73.9</td>\n",
       "      <td>6.6</td>\n",
       "      <td>5.8</td>\n",
       "    </tr>\n",
       "    <tr>\n",
       "      <th>sMCI</th>\n",
       "      <td>2737.2</td>\n",
       "      <td>73.1</td>\n",
       "      <td>6.0</td>\n",
       "      <td>5.3</td>\n",
       "    </tr>\n",
       "  </tbody>\n",
       "</table>\n",
       "</div>"
      ],
      "text/plain": [
       "                     RID   AGE  TOTAL13_adas_Nr_  MRIs_Nr_\n",
       "Usage_ Subgroup_                                          \n",
       "test   cAD        2135.3  74.0               7.1       6.0\n",
       "       sMCI       2984.3  72.7               6.2       5.4\n",
       "train  cAD        2051.2  73.9               6.6       5.8\n",
       "       sMCI       2737.2  73.1               6.0       5.3"
      ]
     },
     "execution_count": 24,
     "metadata": {},
     "output_type": "execute_result"
    }
   ],
   "source": [
    "bl[cols2].groupby(['Usage_','Subgroup_']).mean().round(1)"
   ]
  },
  {
   "cell_type": "markdown",
   "metadata": {},
   "source": [
    "#### MEAN VALUES IN TRAIN-TEST SETS & SUBGROUPS & GENDER"
   ]
  },
  {
   "cell_type": "code",
   "execution_count": 25,
   "metadata": {},
   "outputs": [
    {
     "data": {
      "text/html": [
       "<div>\n",
       "<style scoped>\n",
       "    .dataframe tbody tr th:only-of-type {\n",
       "        vertical-align: middle;\n",
       "    }\n",
       "\n",
       "    .dataframe tbody tr th {\n",
       "        vertical-align: top;\n",
       "    }\n",
       "\n",
       "    .dataframe thead th {\n",
       "        text-align: right;\n",
       "    }\n",
       "</style>\n",
       "<table border=\"1\" class=\"dataframe\">\n",
       "  <thead>\n",
       "    <tr style=\"text-align: right;\">\n",
       "      <th></th>\n",
       "      <th></th>\n",
       "      <th></th>\n",
       "      <th>RID</th>\n",
       "      <th>AGE</th>\n",
       "      <th>TOTAL13_adas_Nr_</th>\n",
       "      <th>MRIs_Nr_</th>\n",
       "    </tr>\n",
       "    <tr>\n",
       "      <th>Usage_</th>\n",
       "      <th>Subgroup_</th>\n",
       "      <th>PTGENDER</th>\n",
       "      <th></th>\n",
       "      <th></th>\n",
       "      <th></th>\n",
       "      <th></th>\n",
       "    </tr>\n",
       "  </thead>\n",
       "  <tbody>\n",
       "    <tr>\n",
       "      <th rowspan=\"4\" valign=\"top\">test</th>\n",
       "      <th rowspan=\"2\" valign=\"top\">cAD</th>\n",
       "      <th>Female</th>\n",
       "      <td>2241.2</td>\n",
       "      <td>72.8</td>\n",
       "      <td>7.7</td>\n",
       "      <td>6.3</td>\n",
       "    </tr>\n",
       "    <tr>\n",
       "      <th>Male</th>\n",
       "      <td>2066.4</td>\n",
       "      <td>74.7</td>\n",
       "      <td>6.7</td>\n",
       "      <td>5.8</td>\n",
       "    </tr>\n",
       "    <tr>\n",
       "      <th rowspan=\"2\" valign=\"top\">sMCI</th>\n",
       "      <th>Female</th>\n",
       "      <td>2815.6</td>\n",
       "      <td>71.6</td>\n",
       "      <td>6.4</td>\n",
       "      <td>5.7</td>\n",
       "    </tr>\n",
       "    <tr>\n",
       "      <th>Male</th>\n",
       "      <td>3106.9</td>\n",
       "      <td>73.5</td>\n",
       "      <td>6.0</td>\n",
       "      <td>5.2</td>\n",
       "    </tr>\n",
       "    <tr>\n",
       "      <th rowspan=\"4\" valign=\"top\">train</th>\n",
       "      <th rowspan=\"2\" valign=\"top\">cAD</th>\n",
       "      <th>Female</th>\n",
       "      <td>2305.0</td>\n",
       "      <td>72.5</td>\n",
       "      <td>6.3</td>\n",
       "      <td>5.5</td>\n",
       "    </tr>\n",
       "    <tr>\n",
       "      <th>Male</th>\n",
       "      <td>1885.7</td>\n",
       "      <td>74.8</td>\n",
       "      <td>6.8</td>\n",
       "      <td>6.0</td>\n",
       "    </tr>\n",
       "    <tr>\n",
       "      <th rowspan=\"2\" valign=\"top\">sMCI</th>\n",
       "      <th>Female</th>\n",
       "      <td>2867.4</td>\n",
       "      <td>72.1</td>\n",
       "      <td>6.0</td>\n",
       "      <td>5.1</td>\n",
       "    </tr>\n",
       "    <tr>\n",
       "      <th>Male</th>\n",
       "      <td>2650.3</td>\n",
       "      <td>73.8</td>\n",
       "      <td>6.1</td>\n",
       "      <td>5.4</td>\n",
       "    </tr>\n",
       "  </tbody>\n",
       "</table>\n",
       "</div>"
      ],
      "text/plain": [
       "                              RID   AGE  TOTAL13_adas_Nr_  MRIs_Nr_\n",
       "Usage_ Subgroup_ PTGENDER                                          \n",
       "test   cAD       Female    2241.2  72.8               7.7       6.3\n",
       "                 Male      2066.4  74.7               6.7       5.8\n",
       "       sMCI      Female    2815.6  71.6               6.4       5.7\n",
       "                 Male      3106.9  73.5               6.0       5.2\n",
       "train  cAD       Female    2305.0  72.5               6.3       5.5\n",
       "                 Male      1885.7  74.8               6.8       6.0\n",
       "       sMCI      Female    2867.4  72.1               6.0       5.1\n",
       "                 Male      2650.3  73.8               6.1       5.4"
      ]
     },
     "execution_count": 25,
     "metadata": {},
     "output_type": "execute_result"
    }
   ],
   "source": [
    "bl[cols2].groupby(['Usage_','Subgroup_','PTGENDER']).mean().round(1)"
   ]
  },
  {
   "cell_type": "markdown",
   "metadata": {},
   "source": [
    "---"
   ]
  },
  {
   "cell_type": "markdown",
   "metadata": {},
   "source": [
    "# PLOTS"
   ]
  },
  {
   "cell_type": "code",
   "execution_count": 28,
   "metadata": {},
   "outputs": [],
   "source": [
    "train_set = bl.loc[bl.Usage_ == 'train']\n",
    "test_set = bl.loc[bl.Usage_ == 'test'] "
   ]
  },
  {
   "cell_type": "markdown",
   "metadata": {},
   "source": [
    "#### GENDER"
   ]
  },
  {
   "cell_type": "code",
   "execution_count": 46,
   "metadata": {},
   "outputs": [
    {
     "data": {
      "image/png": "[encoded data removed]",
      "text/plain": [
       "<Figure size 1800x576 with 4 Axes>"
      ]
     },
     "metadata": {},
     "output_type": "display_data"
    }
   ],
   "source": [
    "#mbal.plot_subgroup_distributions(bl, split_feature='PTGENDER', suptitle='Gender (bl - all subjects)')\n",
    "mbal.plot_subgroup_distributions_to_paper(bl, split_feature='PTGENDER', suptitle='Gender (bl - all subjects)',\n",
    "                                          save_name='balance_train_test')"
   ]
  },
  {
   "cell_type": "code",
   "execution_count": 45,
   "metadata": {},
   "outputs": [
    {
     "data": {
      "image/png": "[encoded data removed]",
      "text/plain": [
       "<Figure size 1800x576 with 4 Axes>"
      ]
     },
     "metadata": {},
     "output_type": "display_data"
    }
   ],
   "source": [
    "#mbal.plot_subgroup_distributions(train_set, split_feature='PTGENDER', suptitle='Gender (train_set)')\n",
    "mbal.plot_subgroup_distributions_to_paper(train_set, split_feature='PTGENDER', suptitle='Gender (train_set)',\n",
    "                                          save_name='gender_train_test')"
   ]
  },
  {
   "cell_type": "code",
   "execution_count": 31,
   "metadata": {},
   "outputs": [
    {
     "data": {
      "image/png": "[encoded data removed]",
      "text/plain": [
       "<Figure size 1800x576 with 6 Axes>"
      ]
     },
     "metadata": {},
     "output_type": "display_data"
    }
   ],
   "source": [
    "mbal.plot_subgroup_distributions(test_set, split_feature='PTGENDER', suptitle='Gender (test_set)')"
   ]
  },
  {
   "cell_type": "markdown",
   "metadata": {},
   "source": [
    "---"
   ]
  },
  {
   "cell_type": "markdown",
   "metadata": {},
   "source": [
    "#### SUBGROUP"
   ]
  },
  {
   "cell_type": "code",
   "execution_count": 30,
   "metadata": {},
   "outputs": [
    {
     "data": {
      "image/png": "[encoded data removed]",
      "text/plain": [
       "<Figure size 1800x576 with 6 Axes>"
      ]
     },
     "metadata": {},
     "output_type": "display_data"
    }
   ],
   "source": [
    "mbal.plot_subgroup_distributions(bl, split_feature='Subgroup_', p0_hue='PTGENDER', suptitle='Subgroup (bl - all subjects)')"
   ]
  },
  {
   "cell_type": "code",
   "execution_count": 59,
   "metadata": {},
   "outputs": [
    {
     "data": {
      "image/png": "[encoded data removed]",
      "text/plain": [
       "<Figure size 1800x576 with 4 Axes>"
      ]
     },
     "metadata": {},
     "output_type": "display_data"
    }
   ],
   "source": [
    "#mbal.plot_subgroup_distributions(train_set, split_feature='Subgroup_', p0_hue='PTGENDER', suptitle='Subgroup (train_set)')\n",
    "mbal.plot_subgroup_distributions_to_paper(train_set, split_feature='Subgroup_',\n",
    "                                          p0_hue='PTGENDER', suptitle='Subgroup (train_set)',save_name='subgroup_train_set')"
   ]
  },
  {
   "cell_type": "code",
   "execution_count": 60,
   "metadata": {},
   "outputs": [
    {
     "data": {
      "image/png": "[encoded data removed]",
      "text/plain": [
       "<Figure size 1800x576 with 4 Axes>"
      ]
     },
     "metadata": {},
     "output_type": "display_data"
    }
   ],
   "source": [
    "#mbal.plot_subgroup_distributions(test_set, split_feature='Subgroup_', p0_hue='PTGENDER', suptitle='Subgroup (test_set)')\n",
    "mbal.plot_subgroup_distributions_to_paper(test_set, split_feature='Subgroup_', p0_hue='PTGENDER',\n",
    "                                          suptitle='Subgroup (test_set)', save_name='subgroup_test_set')"
   ]
  },
  {
   "cell_type": "markdown",
   "metadata": {},
   "source": [
    "---"
   ]
  },
  {
   "cell_type": "markdown",
   "metadata": {},
   "source": [
    "---"
   ]
  },
  {
   "cell_type": "markdown",
   "metadata": {},
   "source": [
    "---"
   ]
  },
  {
   "cell_type": "markdown",
   "metadata": {},
   "source": [
    "# EXTRA STATISTICS (NOT IMPORTANT - PREVIOUS VERSION OF THE SCRIPT!!!)"
   ]
  },
  {
   "cell_type": "markdown",
   "metadata": {},
   "source": [
    "## \"OUR\" GLOBAL VARIABLES"
   ]
  },
  {
   "cell_type": "code",
   "execution_count": 33,
   "metadata": {},
   "outputs": [],
   "source": [
    "age_intervals = range(55,96,5)\n",
    "\n",
    "colCAD = '#8fbcda'\n",
    "colMCI ='#e4acb2'\n",
    "\n",
    "bl['Age_rounded_'] = bl.Age_rounded_.astype(int)"
   ]
  },
  {
   "cell_type": "markdown",
   "metadata": {},
   "source": [
    "# AGE"
   ]
  },
  {
   "cell_type": "markdown",
   "metadata": {},
   "source": [
    "Count subject number in age intervals. The whole all subjects AGE scope is divided into 5 years intervals. For each intervala the number of subjects is counted. "
   ]
  },
  {
   "cell_type": "code",
   "execution_count": 34,
   "metadata": {},
   "outputs": [
    {
     "name": "stdout",
     "output_type": "stream",
     "text": [
      "(54.999, 60.0]     33\n",
      "(60.0, 65.0]       76\n",
      "(65.0, 70.0]      125\n",
      "(70.0, 75.0]      183\n",
      "(75.0, 80.0]      161\n",
      "(80.0, 85.0]      106\n",
      "(85.0, 90.0]       23\n",
      "(90.0, 95.0]        1\n",
      "Name: Age_rounded_, dtype: int64\n"
     ]
    },
    {
     "data": {
      "image/png": "[encoded data removed]",
      "text/plain": [
       "<Figure size 864x576 with 1 Axes>"
      ]
     },
     "metadata": {},
     "output_type": "display_data"
    }
   ],
   "source": [
    "age_counts = bl.Age_rounded_.value_counts(bins=age_intervals, sort=False, dropna=True)\n",
    "print(age_counts)\n",
    "\n",
    "f,ax = plt.subplots(figsize=(12,8))\n",
    "sns.barplot(x=age_counts.index, y=age_counts.values, alpha=0.8, ax=ax)\n",
    "ax.set_title('Nr o subject AGE vs. age intervals', fontsize='xx-large', fontweight='bold')\n",
    "ax.set_xlabel('Age rounded [year]', fontsize = 'xx-large')\n",
    "ax.set_ylabel('Counts',fontsize = 'xx-large')\n",
    "ax.set_yticks(range(0,181, 10))\n",
    "ax.grid()"
   ]
  },
  {
   "cell_type": "markdown",
   "metadata": {},
   "source": [
    "# SUBGROUP\n",
    "\n",
    "Characterization subjects cohort based on **Subgroup** rightness.\n",
    "\n",
    "Subject counts in each subgroup:"
   ]
  },
  {
   "cell_type": "code",
   "execution_count": 35,
   "metadata": {},
   "outputs": [
    {
     "data": {
      "text/html": [
       "<div>\n",
       "<style scoped>\n",
       "    .dataframe tbody tr th:only-of-type {\n",
       "        vertical-align: middle;\n",
       "    }\n",
       "\n",
       "    .dataframe tbody tr th {\n",
       "        vertical-align: top;\n",
       "    }\n",
       "\n",
       "    .dataframe thead th {\n",
       "        text-align: right;\n",
       "    }\n",
       "</style>\n",
       "<table border=\"1\" class=\"dataframe\">\n",
       "  <thead>\n",
       "    <tr style=\"text-align: right;\">\n",
       "      <th></th>\n",
       "      <th>Subgroup_</th>\n",
       "      <th># COL</th>\n",
       "      <th>% COL</th>\n",
       "    </tr>\n",
       "  </thead>\n",
       "  <tbody>\n",
       "    <tr>\n",
       "      <th>1</th>\n",
       "      <td>cAD</td>\n",
       "      <td>327</td>\n",
       "      <td>0.46</td>\n",
       "    </tr>\n",
       "    <tr>\n",
       "      <th>0</th>\n",
       "      <td>sMCI</td>\n",
       "      <td>381</td>\n",
       "      <td>0.54</td>\n",
       "    </tr>\n",
       "  </tbody>\n",
       "</table>\n",
       "</div>"
      ],
      "text/plain": [
       "  Subgroup_  # COL  % COL\n",
       "1       cAD    327   0.46\n",
       "0      sMCI    381   0.54"
      ]
     },
     "execution_count": 35,
     "metadata": {},
     "output_type": "execute_result"
    }
   ],
   "source": [
    "minfo.feature_split_info(bl, 'Subgroup_')"
   ]
  },
  {
   "cell_type": "markdown",
   "metadata": {},
   "source": [
    "Each column mean values:"
   ]
  },
  {
   "cell_type": "code",
   "execution_count": 36,
   "metadata": {},
   "outputs": [
    {
     "data": {
      "text/html": [
       "<div>\n",
       "<style scoped>\n",
       "    .dataframe tbody tr th:only-of-type {\n",
       "        vertical-align: middle;\n",
       "    }\n",
       "\n",
       "    .dataframe tbody tr th {\n",
       "        vertical-align: top;\n",
       "    }\n",
       "\n",
       "    .dataframe thead th {\n",
       "        text-align: right;\n",
       "    }\n",
       "</style>\n",
       "<table border=\"1\" class=\"dataframe\">\n",
       "  <thead>\n",
       "    <tr style=\"text-align: right;\">\n",
       "      <th></th>\n",
       "      <th>RID</th>\n",
       "      <th>AGE</th>\n",
       "      <th>Age_rounded_</th>\n",
       "      <th>ADAS13_adni</th>\n",
       "      <th>ADAS13_adni_Nr_</th>\n",
       "      <th>TOTAL13_adas</th>\n",
       "      <th>TOTAL13_adas_Nr_</th>\n",
       "      <th>MRIs_Nr_</th>\n",
       "      <th>Participation_length_yr_</th>\n",
       "      <th>Visits_Nr_</th>\n",
       "    </tr>\n",
       "    <tr>\n",
       "      <th>Subgroup_</th>\n",
       "      <th></th>\n",
       "      <th></th>\n",
       "      <th></th>\n",
       "      <th></th>\n",
       "      <th></th>\n",
       "      <th></th>\n",
       "      <th></th>\n",
       "      <th></th>\n",
       "      <th></th>\n",
       "      <th></th>\n",
       "    </tr>\n",
       "  </thead>\n",
       "  <tbody>\n",
       "    <tr>\n",
       "      <th>cAD</th>\n",
       "      <td>2068.14</td>\n",
       "      <td>73.91</td>\n",
       "      <td>73.89</td>\n",
       "      <td>20.31</td>\n",
       "      <td>6.69</td>\n",
       "      <td>20.31</td>\n",
       "      <td>6.69</td>\n",
       "      <td>5.85</td>\n",
       "      <td>5.07</td>\n",
       "      <td>9.50</td>\n",
       "    </tr>\n",
       "    <tr>\n",
       "      <th>sMCI</th>\n",
       "      <td>2786.45</td>\n",
       "      <td>73.04</td>\n",
       "      <td>73.02</td>\n",
       "      <td>14.53</td>\n",
       "      <td>6.07</td>\n",
       "      <td>14.53</td>\n",
       "      <td>6.07</td>\n",
       "      <td>5.33</td>\n",
       "      <td>4.53</td>\n",
       "      <td>8.47</td>\n",
       "    </tr>\n",
       "  </tbody>\n",
       "</table>\n",
       "</div>"
      ],
      "text/plain": [
       "               RID    AGE  Age_rounded_  ADAS13_adni  ADAS13_adni_Nr_  \\\n",
       "Subgroup_                                                               \n",
       "cAD        2068.14  73.91         73.89        20.31             6.69   \n",
       "sMCI       2786.45  73.04         73.02        14.53             6.07   \n",
       "\n",
       "           TOTAL13_adas  TOTAL13_adas_Nr_  MRIs_Nr_  Participation_length_yr_  \\\n",
       "Subgroup_                                                                       \n",
       "cAD               20.31              6.69      5.85                      5.07   \n",
       "sMCI              14.53              6.07      5.33                      4.53   \n",
       "\n",
       "           Visits_Nr_  \n",
       "Subgroup_              \n",
       "cAD              9.50  \n",
       "sMCI             8.47  "
      ]
     },
     "execution_count": 36,
     "metadata": {},
     "output_type": "execute_result"
    }
   ],
   "source": [
    "bl[cols].groupby('Subgroup_').mean()"
   ]
  },
  {
   "cell_type": "markdown",
   "metadata": {},
   "source": [
    "Std for each column."
   ]
  },
  {
   "cell_type": "code",
   "execution_count": 37,
   "metadata": {},
   "outputs": [
    {
     "data": {
      "text/html": [
       "<div>\n",
       "<style scoped>\n",
       "    .dataframe tbody tr th:only-of-type {\n",
       "        vertical-align: middle;\n",
       "    }\n",
       "\n",
       "    .dataframe tbody tr th {\n",
       "        vertical-align: top;\n",
       "    }\n",
       "\n",
       "    .dataframe thead th {\n",
       "        text-align: right;\n",
       "    }\n",
       "</style>\n",
       "<table border=\"1\" class=\"dataframe\">\n",
       "  <thead>\n",
       "    <tr style=\"text-align: right;\">\n",
       "      <th></th>\n",
       "      <th>RID</th>\n",
       "      <th>AGE</th>\n",
       "      <th>Age_rounded_</th>\n",
       "      <th>ADAS13_adni</th>\n",
       "      <th>ADAS13_adni_Nr_</th>\n",
       "      <th>TOTAL13_adas</th>\n",
       "      <th>TOTAL13_adas_Nr_</th>\n",
       "      <th>MRIs_Nr_</th>\n",
       "      <th>Participation_length_yr_</th>\n",
       "      <th>Visits_Nr_</th>\n",
       "    </tr>\n",
       "    <tr>\n",
       "      <th>Subgroup_</th>\n",
       "      <th></th>\n",
       "      <th></th>\n",
       "      <th></th>\n",
       "      <th></th>\n",
       "      <th></th>\n",
       "      <th></th>\n",
       "      <th></th>\n",
       "      <th></th>\n",
       "      <th></th>\n",
       "      <th></th>\n",
       "    </tr>\n",
       "  </thead>\n",
       "  <tbody>\n",
       "    <tr>\n",
       "      <th>cAD</th>\n",
       "      <td>1789.03</td>\n",
       "      <td>7.07</td>\n",
       "      <td>7.08</td>\n",
       "      <td>6.19</td>\n",
       "      <td>2.30</td>\n",
       "      <td>6.19</td>\n",
       "      <td>2.30</td>\n",
       "      <td>1.61</td>\n",
       "      <td>2.72</td>\n",
       "      <td>3.93</td>\n",
       "    </tr>\n",
       "    <tr>\n",
       "      <th>sMCI</th>\n",
       "      <td>1705.79</td>\n",
       "      <td>7.51</td>\n",
       "      <td>7.50</td>\n",
       "      <td>5.72</td>\n",
       "      <td>2.53</td>\n",
       "      <td>5.72</td>\n",
       "      <td>2.53</td>\n",
       "      <td>1.55</td>\n",
       "      <td>2.80</td>\n",
       "      <td>3.61</td>\n",
       "    </tr>\n",
       "  </tbody>\n",
       "</table>\n",
       "</div>"
      ],
      "text/plain": [
       "               RID   AGE  Age_rounded_  ADAS13_adni  ADAS13_adni_Nr_  \\\n",
       "Subgroup_                                                              \n",
       "cAD        1789.03  7.07          7.08         6.19             2.30   \n",
       "sMCI       1705.79  7.51          7.50         5.72             2.53   \n",
       "\n",
       "           TOTAL13_adas  TOTAL13_adas_Nr_  MRIs_Nr_  Participation_length_yr_  \\\n",
       "Subgroup_                                                                       \n",
       "cAD                6.19              2.30      1.61                      2.72   \n",
       "sMCI               5.72              2.53      1.55                      2.80   \n",
       "\n",
       "           Visits_Nr_  \n",
       "Subgroup_              \n",
       "cAD              3.93  \n",
       "sMCI             3.61  "
      ]
     },
     "execution_count": 37,
     "metadata": {},
     "output_type": "execute_result"
    }
   ],
   "source": [
    "bl[cols].groupby('Subgroup_').std()"
   ]
  },
  {
   "cell_type": "markdown",
   "metadata": {},
   "source": [
    "Each column count. In some columns thes numbers might differ from total number of subject as NaN appears occasionally. "
   ]
  },
  {
   "cell_type": "code",
   "execution_count": 38,
   "metadata": {},
   "outputs": [
    {
     "data": {
      "text/html": [
       "<div>\n",
       "<style scoped>\n",
       "    .dataframe tbody tr th:only-of-type {\n",
       "        vertical-align: middle;\n",
       "    }\n",
       "\n",
       "    .dataframe tbody tr th {\n",
       "        vertical-align: top;\n",
       "    }\n",
       "\n",
       "    .dataframe thead th {\n",
       "        text-align: right;\n",
       "    }\n",
       "</style>\n",
       "<table border=\"1\" class=\"dataframe\">\n",
       "  <thead>\n",
       "    <tr style=\"text-align: right;\">\n",
       "      <th></th>\n",
       "      <th>RID</th>\n",
       "      <th>PTGENDER</th>\n",
       "      <th>AGE</th>\n",
       "      <th>Age_rounded_</th>\n",
       "      <th>ADAS13_adni</th>\n",
       "      <th>ADAS13_adni_Nr_</th>\n",
       "      <th>TOTAL13_adas</th>\n",
       "      <th>TOTAL13_adas_Nr_</th>\n",
       "      <th>MRIs_Nr_</th>\n",
       "      <th>Participation_length_yr_</th>\n",
       "      <th>Visits_Nr_</th>\n",
       "    </tr>\n",
       "    <tr>\n",
       "      <th>Subgroup_</th>\n",
       "      <th></th>\n",
       "      <th></th>\n",
       "      <th></th>\n",
       "      <th></th>\n",
       "      <th></th>\n",
       "      <th></th>\n",
       "      <th></th>\n",
       "      <th></th>\n",
       "      <th></th>\n",
       "      <th></th>\n",
       "      <th></th>\n",
       "    </tr>\n",
       "  </thead>\n",
       "  <tbody>\n",
       "    <tr>\n",
       "      <th>cAD</th>\n",
       "      <td>327</td>\n",
       "      <td>327</td>\n",
       "      <td>327</td>\n",
       "      <td>327</td>\n",
       "      <td>325</td>\n",
       "      <td>327</td>\n",
       "      <td>325</td>\n",
       "      <td>327</td>\n",
       "      <td>327</td>\n",
       "      <td>327</td>\n",
       "      <td>327</td>\n",
       "    </tr>\n",
       "    <tr>\n",
       "      <th>sMCI</th>\n",
       "      <td>381</td>\n",
       "      <td>381</td>\n",
       "      <td>381</td>\n",
       "      <td>381</td>\n",
       "      <td>381</td>\n",
       "      <td>381</td>\n",
       "      <td>381</td>\n",
       "      <td>381</td>\n",
       "      <td>381</td>\n",
       "      <td>381</td>\n",
       "      <td>381</td>\n",
       "    </tr>\n",
       "  </tbody>\n",
       "</table>\n",
       "</div>"
      ],
      "text/plain": [
       "           RID  PTGENDER  AGE  Age_rounded_  ADAS13_adni  ADAS13_adni_Nr_  \\\n",
       "Subgroup_                                                                   \n",
       "cAD        327       327  327           327          325              327   \n",
       "sMCI       381       381  381           381          381              381   \n",
       "\n",
       "           TOTAL13_adas  TOTAL13_adas_Nr_  MRIs_Nr_  Participation_length_yr_  \\\n",
       "Subgroup_                                                                       \n",
       "cAD                 325               327       327                       327   \n",
       "sMCI                381               381       381                       381   \n",
       "\n",
       "           Visits_Nr_  \n",
       "Subgroup_              \n",
       "cAD               327  \n",
       "sMCI              381  "
      ]
     },
     "execution_count": 38,
     "metadata": {},
     "output_type": "execute_result"
    }
   ],
   "source": [
    "bl[cols].groupby('Subgroup_').count()"
   ]
  },
  {
   "cell_type": "markdown",
   "metadata": {},
   "source": [
    "### SUBGROUP AND GENDER"
   ]
  },
  {
   "cell_type": "code",
   "execution_count": 39,
   "metadata": {},
   "outputs": [
    {
     "data": {
      "text/html": [
       "<div>\n",
       "<style scoped>\n",
       "    .dataframe tbody tr th:only-of-type {\n",
       "        vertical-align: middle;\n",
       "    }\n",
       "\n",
       "    .dataframe tbody tr th {\n",
       "        vertical-align: top;\n",
       "    }\n",
       "\n",
       "    .dataframe thead th {\n",
       "        text-align: right;\n",
       "    }\n",
       "</style>\n",
       "<table border=\"1\" class=\"dataframe\">\n",
       "  <thead>\n",
       "    <tr style=\"text-align: right;\">\n",
       "      <th></th>\n",
       "      <th></th>\n",
       "      <th>RID</th>\n",
       "      <th>AGE</th>\n",
       "      <th>Age_rounded_</th>\n",
       "      <th>ADAS13_adni</th>\n",
       "      <th>ADAS13_adni_Nr_</th>\n",
       "      <th>TOTAL13_adas</th>\n",
       "      <th>TOTAL13_adas_Nr_</th>\n",
       "      <th>MRIs_Nr_</th>\n",
       "      <th>Participation_length_yr_</th>\n",
       "      <th>Visits_Nr_</th>\n",
       "    </tr>\n",
       "    <tr>\n",
       "      <th>Subgroup_</th>\n",
       "      <th>PTGENDER</th>\n",
       "      <th></th>\n",
       "      <th></th>\n",
       "      <th></th>\n",
       "      <th></th>\n",
       "      <th></th>\n",
       "      <th></th>\n",
       "      <th></th>\n",
       "      <th></th>\n",
       "      <th></th>\n",
       "      <th></th>\n",
       "    </tr>\n",
       "  </thead>\n",
       "  <tbody>\n",
       "    <tr>\n",
       "      <th rowspan=\"2\" valign=\"top\">cAD</th>\n",
       "      <th>Female</th>\n",
       "      <td>2292.18</td>\n",
       "      <td>72.56</td>\n",
       "      <td>72.55</td>\n",
       "      <td>20.95</td>\n",
       "      <td>6.59</td>\n",
       "      <td>20.95</td>\n",
       "      <td>6.59</td>\n",
       "      <td>5.69</td>\n",
       "      <td>5.09</td>\n",
       "      <td>9.33</td>\n",
       "    </tr>\n",
       "    <tr>\n",
       "      <th>Male</th>\n",
       "      <td>1922.17</td>\n",
       "      <td>74.79</td>\n",
       "      <td>74.76</td>\n",
       "      <td>19.89</td>\n",
       "      <td>6.76</td>\n",
       "      <td>19.89</td>\n",
       "      <td>6.76</td>\n",
       "      <td>5.95</td>\n",
       "      <td>5.05</td>\n",
       "      <td>9.61</td>\n",
       "    </tr>\n",
       "    <tr>\n",
       "      <th rowspan=\"2\" valign=\"top\">sMCI</th>\n",
       "      <th>Female</th>\n",
       "      <td>2856.64</td>\n",
       "      <td>72.00</td>\n",
       "      <td>71.99</td>\n",
       "      <td>13.45</td>\n",
       "      <td>6.08</td>\n",
       "      <td>13.45</td>\n",
       "      <td>6.08</td>\n",
       "      <td>5.25</td>\n",
       "      <td>4.45</td>\n",
       "      <td>8.40</td>\n",
       "    </tr>\n",
       "    <tr>\n",
       "      <th>Male</th>\n",
       "      <td>2738.83</td>\n",
       "      <td>73.74</td>\n",
       "      <td>73.72</td>\n",
       "      <td>15.26</td>\n",
       "      <td>6.07</td>\n",
       "      <td>15.26</td>\n",
       "      <td>6.07</td>\n",
       "      <td>5.38</td>\n",
       "      <td>4.58</td>\n",
       "      <td>8.52</td>\n",
       "    </tr>\n",
       "  </tbody>\n",
       "</table>\n",
       "</div>"
      ],
      "text/plain": [
       "                        RID    AGE  Age_rounded_  ADAS13_adni  \\\n",
       "Subgroup_ PTGENDER                                              \n",
       "cAD       Female    2292.18  72.56         72.55        20.95   \n",
       "          Male      1922.17  74.79         74.76        19.89   \n",
       "sMCI      Female    2856.64  72.00         71.99        13.45   \n",
       "          Male      2738.83  73.74         73.72        15.26   \n",
       "\n",
       "                    ADAS13_adni_Nr_  TOTAL13_adas  TOTAL13_adas_Nr_  MRIs_Nr_  \\\n",
       "Subgroup_ PTGENDER                                                              \n",
       "cAD       Female               6.59         20.95              6.59      5.69   \n",
       "          Male                 6.76         19.89              6.76      5.95   \n",
       "sMCI      Female               6.08         13.45              6.08      5.25   \n",
       "          Male                 6.07         15.26              6.07      5.38   \n",
       "\n",
       "                    Participation_length_yr_  Visits_Nr_  \n",
       "Subgroup_ PTGENDER                                        \n",
       "cAD       Female                        5.09        9.33  \n",
       "          Male                          5.05        9.61  \n",
       "sMCI      Female                        4.45        8.40  \n",
       "          Male                          4.58        8.52  "
      ]
     },
     "execution_count": 39,
     "metadata": {},
     "output_type": "execute_result"
    }
   ],
   "source": [
    "bl[cols].groupby(['Subgroup_', 'PTGENDER']).mean()"
   ]
  },
  {
   "cell_type": "code",
   "execution_count": 40,
   "metadata": {},
   "outputs": [
    {
     "data": {
      "text/html": [
       "<div>\n",
       "<style scoped>\n",
       "    .dataframe tbody tr th:only-of-type {\n",
       "        vertical-align: middle;\n",
       "    }\n",
       "\n",
       "    .dataframe tbody tr th {\n",
       "        vertical-align: top;\n",
       "    }\n",
       "\n",
       "    .dataframe thead th {\n",
       "        text-align: right;\n",
       "    }\n",
       "</style>\n",
       "<table border=\"1\" class=\"dataframe\">\n",
       "  <thead>\n",
       "    <tr style=\"text-align: right;\">\n",
       "      <th></th>\n",
       "      <th></th>\n",
       "      <th>RID</th>\n",
       "      <th>AGE</th>\n",
       "      <th>Age_rounded_</th>\n",
       "      <th>ADAS13_adni</th>\n",
       "      <th>ADAS13_adni_Nr_</th>\n",
       "      <th>TOTAL13_adas</th>\n",
       "      <th>TOTAL13_adas_Nr_</th>\n",
       "      <th>MRIs_Nr_</th>\n",
       "      <th>Participation_length_yr_</th>\n",
       "      <th>Visits_Nr_</th>\n",
       "    </tr>\n",
       "    <tr>\n",
       "      <th>Subgroup_</th>\n",
       "      <th>PTGENDER</th>\n",
       "      <th></th>\n",
       "      <th></th>\n",
       "      <th></th>\n",
       "      <th></th>\n",
       "      <th></th>\n",
       "      <th></th>\n",
       "      <th></th>\n",
       "      <th></th>\n",
       "      <th></th>\n",
       "      <th></th>\n",
       "    </tr>\n",
       "  </thead>\n",
       "  <tbody>\n",
       "    <tr>\n",
       "      <th rowspan=\"2\" valign=\"top\">cAD</th>\n",
       "      <th>Female</th>\n",
       "      <td>129</td>\n",
       "      <td>129</td>\n",
       "      <td>129</td>\n",
       "      <td>128</td>\n",
       "      <td>129</td>\n",
       "      <td>128</td>\n",
       "      <td>129</td>\n",
       "      <td>129</td>\n",
       "      <td>129</td>\n",
       "      <td>129</td>\n",
       "    </tr>\n",
       "    <tr>\n",
       "      <th>Male</th>\n",
       "      <td>198</td>\n",
       "      <td>198</td>\n",
       "      <td>198</td>\n",
       "      <td>197</td>\n",
       "      <td>198</td>\n",
       "      <td>197</td>\n",
       "      <td>198</td>\n",
       "      <td>198</td>\n",
       "      <td>198</td>\n",
       "      <td>198</td>\n",
       "    </tr>\n",
       "    <tr>\n",
       "      <th rowspan=\"2\" valign=\"top\">sMCI</th>\n",
       "      <th>Female</th>\n",
       "      <td>154</td>\n",
       "      <td>154</td>\n",
       "      <td>154</td>\n",
       "      <td>154</td>\n",
       "      <td>154</td>\n",
       "      <td>154</td>\n",
       "      <td>154</td>\n",
       "      <td>154</td>\n",
       "      <td>154</td>\n",
       "      <td>154</td>\n",
       "    </tr>\n",
       "    <tr>\n",
       "      <th>Male</th>\n",
       "      <td>227</td>\n",
       "      <td>227</td>\n",
       "      <td>227</td>\n",
       "      <td>227</td>\n",
       "      <td>227</td>\n",
       "      <td>227</td>\n",
       "      <td>227</td>\n",
       "      <td>227</td>\n",
       "      <td>227</td>\n",
       "      <td>227</td>\n",
       "    </tr>\n",
       "  </tbody>\n",
       "</table>\n",
       "</div>"
      ],
      "text/plain": [
       "                    RID  AGE  Age_rounded_  ADAS13_adni  ADAS13_adni_Nr_  \\\n",
       "Subgroup_ PTGENDER                                                         \n",
       "cAD       Female    129  129           129          128              129   \n",
       "          Male      198  198           198          197              198   \n",
       "sMCI      Female    154  154           154          154              154   \n",
       "          Male      227  227           227          227              227   \n",
       "\n",
       "                    TOTAL13_adas  TOTAL13_adas_Nr_  MRIs_Nr_  \\\n",
       "Subgroup_ PTGENDER                                             \n",
       "cAD       Female             128               129       129   \n",
       "          Male               197               198       198   \n",
       "sMCI      Female             154               154       154   \n",
       "          Male               227               227       227   \n",
       "\n",
       "                    Participation_length_yr_  Visits_Nr_  \n",
       "Subgroup_ PTGENDER                                        \n",
       "cAD       Female                         129         129  \n",
       "          Male                           198         198  \n",
       "sMCI      Female                         154         154  \n",
       "          Male                           227         227  "
      ]
     },
     "execution_count": 40,
     "metadata": {},
     "output_type": "execute_result"
    }
   ],
   "source": [
    "bl[cols].groupby(['Subgroup_', 'PTGENDER']).count()"
   ]
  },
  {
   "cell_type": "markdown",
   "metadata": {},
   "source": [
    "---"
   ]
  },
  {
   "cell_type": "markdown",
   "metadata": {},
   "source": [
    "## PLOT OF SUBJECT COUNT AGAINST AGE"
   ]
  },
  {
   "cell_type": "code",
   "execution_count": 41,
   "metadata": {
    "jupyter": {
     "source_hidden": true
    }
   },
   "outputs": [
    {
     "data": {
      "text/plain": [
       "<AxesSubplot:title={'center':'Distribution'}, xlabel='Age_rounded_'>"
      ]
     },
     "execution_count": 41,
     "metadata": {},
     "output_type": "execute_result"
    },
    {
     "data": {
      "image/png": "[encoded data removed]",
      "text/plain": [
       "<Figure size 1440x432 with 1 Axes>"
      ]
     },
     "metadata": {},
     "output_type": "display_data"
    }
   ],
   "source": [
    "plot_df = bl[['Age_rounded_','Subgroup_']]\n",
    "plot_df_sorted = plot_df.pivot_table(index=['Age_rounded_'], columns=['Subgroup_'], aggfunc=len).sort_values('Age_rounded_', ascending=True) \n",
    "plot_df_sorted.plot(kind='bar', title=\"Distribution\", stacked=False, figsize=(20,6), color=[colCAD, colMCI], grid=True, rot=0)"
   ]
  },
  {
   "cell_type": "markdown",
   "metadata": {},
   "source": [
    "## COUNT SUBGROUP SUBJECTS AGAINST AGE"
   ]
  },
  {
   "cell_type": "code",
   "execution_count": 42,
   "metadata": {
    "jupyter": {
     "source_hidden": true
    }
   },
   "outputs": [
    {
     "name": "stdout",
     "output_type": "stream",
     "text": [
      "\n",
      "#smci        381\n",
      "#cad         327\n",
      "#all (bl)    708\n",
      "dtype: int64\n",
      "\n"
     ]
    },
    {
     "data": {
      "text/html": [
       "<div>\n",
       "<style scoped>\n",
       "    .dataframe tbody tr th:only-of-type {\n",
       "        vertical-align: middle;\n",
       "    }\n",
       "\n",
       "    .dataframe tbody tr th {\n",
       "        vertical-align: top;\n",
       "    }\n",
       "\n",
       "    .dataframe thead th {\n",
       "        text-align: right;\n",
       "    }\n",
       "</style>\n",
       "<table border=\"1\" class=\"dataframe\">\n",
       "  <thead>\n",
       "    <tr style=\"text-align: right;\">\n",
       "      <th></th>\n",
       "      <th>bin</th>\n",
       "      <th>#smci</th>\n",
       "      <th>#cad</th>\n",
       "      <th>#all (bl)</th>\n",
       "    </tr>\n",
       "  </thead>\n",
       "  <tbody>\n",
       "    <tr>\n",
       "      <th>0</th>\n",
       "      <td>(54.999, 60.0]</td>\n",
       "      <td>17</td>\n",
       "      <td>16</td>\n",
       "      <td>33</td>\n",
       "    </tr>\n",
       "    <tr>\n",
       "      <th>1</th>\n",
       "      <td>(60.0, 65.0]</td>\n",
       "      <td>51</td>\n",
       "      <td>25</td>\n",
       "      <td>76</td>\n",
       "    </tr>\n",
       "    <tr>\n",
       "      <th>2</th>\n",
       "      <td>(65.0, 70.0]</td>\n",
       "      <td>69</td>\n",
       "      <td>56</td>\n",
       "      <td>125</td>\n",
       "    </tr>\n",
       "    <tr>\n",
       "      <th>3</th>\n",
       "      <td>(70.0, 75.0]</td>\n",
       "      <td>97</td>\n",
       "      <td>86</td>\n",
       "      <td>183</td>\n",
       "    </tr>\n",
       "    <tr>\n",
       "      <th>4</th>\n",
       "      <td>(75.0, 80.0]</td>\n",
       "      <td>77</td>\n",
       "      <td>84</td>\n",
       "      <td>161</td>\n",
       "    </tr>\n",
       "    <tr>\n",
       "      <th>5</th>\n",
       "      <td>(80.0, 85.0]</td>\n",
       "      <td>56</td>\n",
       "      <td>50</td>\n",
       "      <td>106</td>\n",
       "    </tr>\n",
       "    <tr>\n",
       "      <th>6</th>\n",
       "      <td>(85.0, 90.0]</td>\n",
       "      <td>13</td>\n",
       "      <td>10</td>\n",
       "      <td>23</td>\n",
       "    </tr>\n",
       "    <tr>\n",
       "      <th>7</th>\n",
       "      <td>(90.0, 95.0]</td>\n",
       "      <td>1</td>\n",
       "      <td>0</td>\n",
       "      <td>1</td>\n",
       "    </tr>\n",
       "  </tbody>\n",
       "</table>\n",
       "</div>"
      ],
      "text/plain": [
       "              bin  #smci  #cad  #all (bl)\n",
       "0  (54.999, 60.0]     17    16         33\n",
       "1    (60.0, 65.0]     51    25         76\n",
       "2    (65.0, 70.0]     69    56        125\n",
       "3    (70.0, 75.0]     97    86        183\n",
       "4    (75.0, 80.0]     77    84        161\n",
       "5    (80.0, 85.0]     56    50        106\n",
       "6    (85.0, 90.0]     13    10         23\n",
       "7    (90.0, 95.0]      1     0          1"
      ]
     },
     "execution_count": 42,
     "metadata": {},
     "output_type": "execute_result"
    }
   ],
   "source": [
    "smci = bl[bl.Subgroup_ == 'sMCI']\n",
    "cad = bl[bl.Subgroup_ == 'cAD']\n",
    "#print(smci.shape[0], cad.shape[0])\n",
    "\n",
    "smci_df= smci.Age_rounded_.value_counts(bins=age_intervals, sort=False).rename_axis('bin').reset_index(name='#smci')\n",
    "cad_df = cad.Age_rounded_.value_counts(bins=age_intervals, sort=False).rename_axis('bin').reset_index(name='#cad')\n",
    "bl_df = bl.Age_rounded_.value_counts(bins=age_intervals, sort=False).rename_axis('bin').reset_index(name='#all (bl)')\n",
    "\n",
    "df = pd.merge(smci_df,cad_df, how='left', on='bin',indicator='MERGE-smci-cad')\n",
    "df = pd.merge(df,bl_df, how='left', on='bin',indicator='MERGE-smci-cad-bl')\n",
    "if (df['MERGE-smci-cad']  == df['MERGE-smci-cad-bl']).all():\n",
    "    df.drop(columns=['MERGE-smci-cad','MERGE-smci-cad-bl'], inplace=True)\n",
    "print()\n",
    "print(df.sum())\n",
    "print()\n",
    "df"
   ]
  },
  {
   "cell_type": "code",
   "execution_count": 43,
   "metadata": {
    "jupyter": {
     "source_hidden": true
    }
   },
   "outputs": [
    {
     "data": {
      "image/png": "[encoded data removed]",
      "text/plain": [
       "<Figure size 1584x576 with 2 Axes>"
      ]
     },
     "metadata": {},
     "output_type": "display_data"
    }
   ],
   "source": [
    "smci_counts= smci.Age_rounded_.value_counts(bins=age_intervals, sort=False)\n",
    "cad_counts = cad.Age_rounded_.value_counts(bins=age_intervals, sort=False)\n",
    "bl_counts = bl.Age_rounded_.value_counts(bins=age_intervals, sort=False)\n",
    "\n",
    "f,ax = plt.subplots(1,2,sharey=False, figsize=(22,8))\n",
    "sns.barplot(x=smci_counts.index, y=smci_counts.values, alpha=0.8, ax=ax[0], color=colMCI)\n",
    "ax[0].set_title('#sMCI subjects vs. AGE', fontsize='xx-large', fontweight='bold')\n",
    "sns.barplot(x=cad_counts.index, y=cad_counts.values, alpha=0.8, ax=ax[1], color=colCAD)\n",
    "ax[1].set_title('#cAD subjects vs. AGE', fontsize='xx-large',fontweight='bold')\n",
    "\n",
    "for a in ax:\n",
    "    a.set_xlabel('Age rounded [year]')\n",
    "    a.set_ylabel('Counts')\n",
    "    #a.set_aspect('equal')\n",
    "    a.set_yticks(range(0,100,5))\n",
    "    a.grid(True)"
   ]
  },
  {
   "cell_type": "markdown",
   "metadata": {},
   "source": [
    "---"
   ]
  },
  {
   "cell_type": "markdown",
   "metadata": {},
   "source": [
    "# GENDER"
   ]
  },
  {
   "cell_type": "code",
   "execution_count": 44,
   "metadata": {
    "jupyter": {
     "source_hidden": true
    }
   },
   "outputs": [
    {
     "data": {
      "text/plain": [
       "<AxesSubplot:title={'center':'Distribution'}, xlabel='Age_rounded_'>"
      ]
     },
     "execution_count": 44,
     "metadata": {},
     "output_type": "execute_result"
    },
    {
     "data": {
      "image/png": "[encoded data removed]",
      "text/plain": [
       "<Figure size 1728x432 with 1 Axes>"
      ]
     },
     "metadata": {},
     "output_type": "display_data"
    }
   ],
   "source": [
    "plot_df = bl[['Age_rounded_','PTGENDER']]\n",
    "plot_df_sorted = plot_df.pivot_table(index=['Age_rounded_'], columns=['PTGENDER'], aggfunc=len).sort_values('Age_rounded_', ascending=True) \n",
    "plot_df_sorted.plot(kind='bar',figsize=(24,6), title=\"Distribution\", stacked=False, color=['#8fbcda','#e4acb2'], grid=True, rot=0)"
   ]
  },
  {
   "cell_type": "markdown",
   "metadata": {},
   "source": [
    "\n",
    "## COUNT PTGENDER SUBJECTS AGAINST AGE"
   ]
  },
  {
   "cell_type": "code",
   "execution_count": 45,
   "metadata": {
    "jupyter": {
     "source_hidden": true
    }
   },
   "outputs": [
    {
     "name": "stdout",
     "output_type": "stream",
     "text": [
      "\n",
      "male_nr_      425\n",
      "female_nr_    283\n",
      "all_nr_       708\n",
      "dtype: int64\n",
      "\n"
     ]
    },
    {
     "data": {
      "text/html": [
       "<div>\n",
       "<style scoped>\n",
       "    .dataframe tbody tr th:only-of-type {\n",
       "        vertical-align: middle;\n",
       "    }\n",
       "\n",
       "    .dataframe tbody tr th {\n",
       "        vertical-align: top;\n",
       "    }\n",
       "\n",
       "    .dataframe thead th {\n",
       "        text-align: right;\n",
       "    }\n",
       "</style>\n",
       "<table border=\"1\" class=\"dataframe\">\n",
       "  <thead>\n",
       "    <tr style=\"text-align: right;\">\n",
       "      <th></th>\n",
       "      <th>bin</th>\n",
       "      <th>male_nr_</th>\n",
       "      <th>female_nr_</th>\n",
       "      <th>all_nr_</th>\n",
       "    </tr>\n",
       "  </thead>\n",
       "  <tbody>\n",
       "    <tr>\n",
       "      <th>0</th>\n",
       "      <td>(54.999, 60.0]</td>\n",
       "      <td>15</td>\n",
       "      <td>18</td>\n",
       "      <td>33</td>\n",
       "    </tr>\n",
       "    <tr>\n",
       "      <th>1</th>\n",
       "      <td>(60.0, 65.0]</td>\n",
       "      <td>36</td>\n",
       "      <td>40</td>\n",
       "      <td>76</td>\n",
       "    </tr>\n",
       "    <tr>\n",
       "      <th>2</th>\n",
       "      <td>(65.0, 70.0]</td>\n",
       "      <td>68</td>\n",
       "      <td>57</td>\n",
       "      <td>125</td>\n",
       "    </tr>\n",
       "    <tr>\n",
       "      <th>3</th>\n",
       "      <td>(70.0, 75.0]</td>\n",
       "      <td>118</td>\n",
       "      <td>65</td>\n",
       "      <td>183</td>\n",
       "    </tr>\n",
       "    <tr>\n",
       "      <th>4</th>\n",
       "      <td>(75.0, 80.0]</td>\n",
       "      <td>101</td>\n",
       "      <td>60</td>\n",
       "      <td>161</td>\n",
       "    </tr>\n",
       "    <tr>\n",
       "      <th>5</th>\n",
       "      <td>(80.0, 85.0]</td>\n",
       "      <td>68</td>\n",
       "      <td>38</td>\n",
       "      <td>106</td>\n",
       "    </tr>\n",
       "    <tr>\n",
       "      <th>6</th>\n",
       "      <td>(85.0, 90.0]</td>\n",
       "      <td>18</td>\n",
       "      <td>5</td>\n",
       "      <td>23</td>\n",
       "    </tr>\n",
       "    <tr>\n",
       "      <th>7</th>\n",
       "      <td>(90.0, 95.0]</td>\n",
       "      <td>1</td>\n",
       "      <td>0</td>\n",
       "      <td>1</td>\n",
       "    </tr>\n",
       "  </tbody>\n",
       "</table>\n",
       "</div>"
      ],
      "text/plain": [
       "              bin  male_nr_  female_nr_  all_nr_\n",
       "0  (54.999, 60.0]        15          18       33\n",
       "1    (60.0, 65.0]        36          40       76\n",
       "2    (65.0, 70.0]        68          57      125\n",
       "3    (70.0, 75.0]       118          65      183\n",
       "4    (75.0, 80.0]       101          60      161\n",
       "5    (80.0, 85.0]        68          38      106\n",
       "6    (85.0, 90.0]        18           5       23\n",
       "7    (90.0, 95.0]         1           0        1"
      ]
     },
     "execution_count": 45,
     "metadata": {},
     "output_type": "execute_result"
    }
   ],
   "source": [
    "male = bl[bl.PTGENDER == 'Male']\n",
    "female = bl[bl.PTGENDER == 'Female']\n",
    "#print(len(male), female.shape[0], bl.PTGENDER.value_counts(normalize=True))\n",
    "\n",
    "\n",
    "male_df= male.Age_rounded_.value_counts(bins=age_intervals,\n",
    "                                        sort=False).rename_axis('bin').reset_index(name='male_nr_')\n",
    "female_df = female.Age_rounded_.value_counts(bins=age_intervals,\n",
    "                                             sort=False).rename_axis('bin').reset_index(name='female_nr_')\n",
    "bl_df = bl.Age_rounded_.value_counts(bins=age_intervals, sort=False).rename_axis('bin').reset_index(name='all_nr_')\n",
    "\n",
    "df = pd.merge(male_df,female_df, how='left', on='bin',indicator='MERGE-male-female')\n",
    "df = pd.merge(df,bl_df, how='left', on='bin',indicator='MERGE-male-female-bl')\n",
    "\n",
    "df['male_nr_'] = df.male_nr_.astype(int)\n",
    "df['female_nr_'] = df.female_nr_.astype(int)\n",
    "\n",
    "if (df['MERGE-male-female']  == df['MERGE-male-female-bl']).all():\n",
    "    df.drop(columns=['MERGE-male-female','MERGE-male-female-bl'], inplace=True)\n",
    "\n",
    "print()\n",
    "print(df.sum())\n",
    "print()\n",
    "df"
   ]
  },
  {
   "cell_type": "code",
   "execution_count": 46,
   "metadata": {
    "jupyter": {
     "source_hidden": true
    }
   },
   "outputs": [
    {
     "data": {
      "image/png": "[encoded data removed]",
      "text/plain": [
       "<Figure size 1584x576 with 2 Axes>"
      ]
     },
     "metadata": {},
     "output_type": "display_data"
    }
   ],
   "source": [
    "male_counts= male.Age_rounded_.value_counts(bins=age_intervals, sort=False)\n",
    "female_counts = female.Age_rounded_.value_counts(bins=age_intervals, sort=False)\n",
    "bl_counts = bl.Age_rounded_.value_counts(bins=age_intervals, sort=False)\n",
    "\n",
    "f,ax = plt.subplots(1,2,sharey=True, figsize=(22,8))\n",
    "sns.barplot(x=male_counts.index, y=male_counts.values, alpha=0.8, ax=ax[0], color=colMCI)\n",
    "ax[0].set_title('#male subjects vs. AGE', fontsize='xx-large', fontweight='bold')\n",
    "sns.barplot(x=female_counts.index, y=female_counts.values, alpha=0.8, ax=ax[1], color=colCAD)\n",
    "ax[1].set_title('#female subjects vs. AGE', fontsize='xx-large',fontweight='bold')\n",
    "\n",
    "for a in ax:\n",
    "    a.set_xlabel('AGE rounded [year]')\n",
    "    a.set_ylabel('Counts')\n",
    "    #a.set_aspect('equal')\n",
    "    a.set_yticks(range(0,120,5))\n",
    "    a.grid(True)"
   ]
  },
  {
   "cell_type": "markdown",
   "metadata": {},
   "source": [
    "---"
   ]
  },
  {
   "cell_type": "markdown",
   "metadata": {},
   "source": [
    "---"
   ]
  },
  {
   "cell_type": "markdown",
   "metadata": {},
   "source": [
    "---"
   ]
  },
  {
   "cell_type": "markdown",
   "metadata": {},
   "source": [
    "### NIE KASUJ TYCH KOMOREK !!!!"
   ]
  },
  {
   "cell_type": "code",
   "execution_count": 47,
   "metadata": {
    "jupyter": {
     "source_hidden": true
    }
   },
   "outputs": [],
   "source": [
    "# cor = bl_new[cols2].corr().abs()\n",
    "# plt.figure(figsize=(15,15))\n",
    "# sns.heatmap(cor, annot=True, cmap='RdBu_r')"
   ]
  },
  {
   "cell_type": "code",
   "execution_count": 48,
   "metadata": {
    "jupyter": {
     "source_hidden": true
    }
   },
   "outputs": [],
   "source": [
    "# bl.loc[(bl.AGE_rounded_ > 50) & (bl.AGE_rounded_ <= 60), 'AGE_group_'] = 1\n",
    "# bl.loc[(bl.AGE_rounded_ > 60) & (bl.AGE_rounded_ <= 65), 'AGE_group_'] = 2\n",
    "# bl.loc[(bl.AGE_rounded_ > 65) & (bl.AGE_rounded_ <= 70), 'AGE_group_'] = 3\n",
    "# bl.loc[(bl.AGE_rounded_ > 70) & (bl.AGE_rounded_ <= 75), 'AGE_group_'] = 4\n",
    "# bl.loc[(bl.AGE_rounded_ > 75) & (bl.AGE_rounded_ <= 80), 'AGE_group_'] = 5\n",
    "# bl.loc[(bl.AGE_rounded_ > 80) & (bl.AGE_rounded_ <= 85), 'AGE_group_'] = 6\n",
    "# bl.loc[(bl.AGE_rounded_ > 85) & (bl.AGE_rounded_ <= 95), 'AGE_group_'] = 7\n",
    "\n",
    "# bl['AGE_group_'] = bl.AGE_group_.astype(int)"
   ]
  },
  {
   "cell_type": "code",
   "execution_count": 49,
   "metadata": {
    "jupyter": {
     "source_hidden": true
    }
   },
   "outputs": [],
   "source": [
    "# s1 = bl.AGE_group2_.value_counts(sort=True)\n",
    "# s2 = bl.AGE_group_.value_counts(sort=True)\n",
    "\n",
    "# d1 = s1.to_frame().rename_axis('bin')\n",
    "# d2 = s2.to_frame().rename_axis('bin')\n",
    "# df = pd.merge(d1,d2,how='left', on='bin')\n",
    "# df"
   ]
  }
 ],
 "metadata": {
  "kernelspec": {
   "display_name": "MCI",
   "language": "python",
   "name": "mci"
  },
  "language_info": {
   "codemirror_mode": {
    "name": "ipython",
    "version": 3
   },
   "file_extension": ".py",
   "mimetype": "text/x-python",
   "name": "python",
   "nbconvert_exporter": "python",
   "pygments_lexer": "ipython3",
   "version": "3.9.7"
  }
 },
 "nbformat": 4,
 "nbformat_minor": 4
}
